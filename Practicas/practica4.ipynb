{
 "cells": [
  {
   "cell_type": "code",
   "execution_count": 9,
   "metadata": {},
   "outputs": [],
   "source": [
    "import numpy as np\n",
    "import seaborn as sns\n",
    "import pandas as pd\n",
    "\n",
    "from sklearn import linear_model\n",
    "from sklearn.metrics import mean_squared_error, r2_score    # Medidas de desempeño"
   ]
  },
  {
   "cell_type": "markdown",
   "metadata": {},
   "source": [
    "## Ejercicio 1\n",
    "A. Implementar una función que calcule la pendiente y la ordenada al origen de la recta de\n",
    "regresión lineal con las fórmulas vistas en clase:\n",
    "$$\n",
    " \\begin{array}{rl}\n",
    "      \\hat{\\beta}_1 = & \\dfrac{\\displaystyle\\sum_{i=1}^n(x_i - \\bar{x})(y_i - \\bar{y})}{\\displaystyle\\sum_{i=1}^n(x_i - \\bar{x})^2}  \\\\[1em]\n",
    "      \\hat{\\beta}_0 = & \\bar{y} - \\hat{\\beta}_1\\bar{x}\n",
    " \\end{array}\n",
    " $$\n",
    "\n",
    " donde \n",
    " $$\\bar{x} =  \\frac{1}{n} \\sum_{i=1}^{n}x_i $$\n",
    "  \n",
    " \n",
    " $$\\bar{y} =  \\frac{1}{n} \\sum_{i=1}^{n}y_i$$ \n"
   ]
  },
  {
   "cell_type": "code",
   "execution_count": 6,
   "metadata": {},
   "outputs": [],
   "source": [
    "def coefs_rl(x,y):\n",
    "    x_med = np.mean(x)\n",
    "    y_med = np.mean(y)\n",
    "    beta_1 = np.sum((x - x_med)*(y - y_med))/np.sum((x - x_med)**2)\n",
    "    beta_0 = y_med - beta_1*x_med\n",
    "    return beta_1, beta_0"
   ]
  },
  {
   "cell_type": "markdown",
   "metadata": {},
   "source": [
    "b) Con el dataset gapminder, utilizar la función implementada en el item anterior para\n",
    "realizar una regresión lineal entre los años y la expectiva de vida en Argentina. Comparar\n",
    "los coeficientes con los obtenidos por scikit-learn"
   ]
  },
  {
   "cell_type": "code",
   "execution_count": 4,
   "metadata": {},
   "outputs": [],
   "source": [
    "gapminder = pd.read_csv(\"../_src/gapminder.csv\")\n",
    "datos = gapminder[[\"year\",\"lifeExp\"]]"
   ]
  },
  {
   "cell_type": "code",
   "execution_count": 7,
   "metadata": {},
   "outputs": [
    {
     "name": "stdout",
     "output_type": "stream",
     "text": [
      "(0.3259038276371516, -585.6521874415444)\n"
     ]
    }
   ],
   "source": [
    "print(coefs_rl(datos[\"year\"],datos[\"lifeExp\"]))"
   ]
  },
  {
   "cell_type": "markdown",
   "metadata": {},
   "source": [
    "Veamos ahora con scikit learn"
   ]
  },
  {
   "cell_type": "code",
   "execution_count": 10,
   "metadata": {},
   "outputs": [
    {
     "name": "stdout",
     "output_type": "stream",
     "text": [
      "0.3259038276371518 -585.6521874415448\n"
     ]
    }
   ],
   "source": [
    "modelo = linear_model.LinearRegression()\n",
    "modelo.fit(datos[[\"year\"]],datos[\"lifeExp\"])\n",
    "beta_1 = modelo.coef_[0]\n",
    "beta_0 = modelo.intercept_\n",
    "print(beta_1, beta_0)"
   ]
  }
 ],
 "metadata": {
  "kernelspec": {
   "display_name": "venv",
   "language": "python",
   "name": "python3"
  },
  "language_info": {
   "codemirror_mode": {
    "name": "ipython",
    "version": 3
   },
   "file_extension": ".py",
   "mimetype": "text/x-python",
   "name": "python",
   "nbconvert_exporter": "python",
   "pygments_lexer": "ipython3",
   "version": "3.12.2"
  }
 },
 "nbformat": 4,
 "nbformat_minor": 2
}
