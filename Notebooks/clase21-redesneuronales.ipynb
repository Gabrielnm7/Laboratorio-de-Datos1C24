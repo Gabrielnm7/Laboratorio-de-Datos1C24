{
 "cells": [
  {
   "cell_type": "markdown",
   "id": "bffbceea848b271a",
   "metadata": {
    "collapsed": false,
    "jupyter": {
     "outputs_hidden": false
    }
   },
   "source": [
    "Instalar las siguientes librerias y reiniciar el kernel"
   ]
  },
  {
   "cell_type": "code",
   "execution_count": null,
   "id": "a46a78762195e2f8",
   "metadata": {
    "collapsed": false,
    "jupyter": {
     "outputs_hidden": false
    }
   },
   "outputs": [],
   "source": [
    "!pip install tensorflow\n",
    "!pip install keras\n",
    "!pip install --upgrade keras\n",
    "!pip install ipympl"
   ]
  },
  {
   "cell_type": "code",
   "execution_count": 1,
   "id": "initial_id",
   "metadata": {
    "ExecuteTime": {
     "end_time": "2024-06-05T19:52:04.505051642Z",
     "start_time": "2024-06-05T19:52:04.359994601Z"
    },
    "collapsed": false,
    "jupyter": {
     "outputs_hidden": false
    }
   },
   "outputs": [],
   "source": [
    "import numpy as np\n",
    "import pandas as pd\n",
    "import seaborn as sns\n",
    "import seaborn.objects as so\n",
    "import matplotlib.pyplot as plt\n",
    "from matplotlib import cm\n",
    "from formulaic import Formula\n",
    "from sklearn import linear_model\n",
    "from sklearn.metrics import mean_squared_error\n",
    "from time import time\n",
    "import logging\n",
    "import os\n",
    "\n",
    "# Estas dos lineas son para silenciar las advertencias de TensorFlow\n",
    "os.environ['TF_CPP_MIN_LOG_LEVEL'] = '2'\n",
    "logging.getLogger('tensorflow').setLevel(logging.ERROR)\n",
    "import tensorflow as tf\n",
    "import keras\n",
    "\n",
    "from tf_regressor import train_test_split_scale_center"
   ]
  },
  {
   "cell_type": "markdown",
   "id": "7c48a6ff68493b1f",
   "metadata": {
    "collapsed": false,
    "jupyter": {
     "outputs_hidden": false
    }
   },
   "source": [
    "# Redes Neuronales\n",
    "\n",
    "### Laboratorio de Datos, IC - FCEN - UBA - 1er. Cuatrimestre 2024"
   ]
  },
  {
   "cell_type": "markdown",
   "id": "d040c0eba6ca5a15",
   "metadata": {
    "collapsed": false,
    "jupyter": {
     "outputs_hidden": false
    }
   },
   "source": [
    "### 1. Perceptrón Simple : clasificación binaria "
   ]
  },
  {
   "cell_type": "markdown",
   "id": "797d53b60f58a291",
   "metadata": {
    "collapsed": false,
    "jupyter": {
     "outputs_hidden": false
    }
   },
   "source": [
    "Armaremos una red neuronal para predecir si una persona tiene o no diabetes a partir de 8 caracteristicas:\n",
    "- Embarazos\n",
    "- Glucosa\n",
    "- Presión sanguínea\n",
    "- Grosor de la piel\n",
    "- Insulina\n",
    "- Indice de masa corporal (BMI)\n",
    "- Antecedentes familiares\n",
    "- Edad\n",
    "\n",
    "Como se trata de un problema de clasificación, la función de activación será la función sigmoidea."
   ]
  },
  {
   "cell_type": "code",
   "execution_count": 3,
   "id": "cc3e02df",
   "metadata": {},
   "outputs": [
    {
     "data": {
      "text/html": [
       "<div>\n",
       "<style scoped>\n",
       "    .dataframe tbody tr th:only-of-type {\n",
       "        vertical-align: middle;\n",
       "    }\n",
       "\n",
       "    .dataframe tbody tr th {\n",
       "        vertical-align: top;\n",
       "    }\n",
       "\n",
       "    .dataframe thead th {\n",
       "        text-align: right;\n",
       "    }\n",
       "</style>\n",
       "<table border=\"1\" class=\"dataframe\">\n",
       "  <thead>\n",
       "    <tr style=\"text-align: right;\">\n",
       "      <th></th>\n",
       "      <th>Pregnancies</th>\n",
       "      <th>Glucose</th>\n",
       "      <th>BloodPressure</th>\n",
       "      <th>SkinThickness</th>\n",
       "      <th>Insulin</th>\n",
       "      <th>BMI</th>\n",
       "      <th>Pedigree</th>\n",
       "      <th>Age</th>\n",
       "      <th>Outcome</th>\n",
       "    </tr>\n",
       "  </thead>\n",
       "  <tbody>\n",
       "    <tr>\n",
       "      <th>0</th>\n",
       "      <td>6</td>\n",
       "      <td>148</td>\n",
       "      <td>72</td>\n",
       "      <td>35</td>\n",
       "      <td>0</td>\n",
       "      <td>33.6</td>\n",
       "      <td>0.627</td>\n",
       "      <td>50</td>\n",
       "      <td>1</td>\n",
       "    </tr>\n",
       "    <tr>\n",
       "      <th>1</th>\n",
       "      <td>1</td>\n",
       "      <td>85</td>\n",
       "      <td>66</td>\n",
       "      <td>29</td>\n",
       "      <td>0</td>\n",
       "      <td>26.6</td>\n",
       "      <td>0.351</td>\n",
       "      <td>31</td>\n",
       "      <td>0</td>\n",
       "    </tr>\n",
       "    <tr>\n",
       "      <th>2</th>\n",
       "      <td>8</td>\n",
       "      <td>183</td>\n",
       "      <td>64</td>\n",
       "      <td>0</td>\n",
       "      <td>0</td>\n",
       "      <td>23.3</td>\n",
       "      <td>0.672</td>\n",
       "      <td>32</td>\n",
       "      <td>1</td>\n",
       "    </tr>\n",
       "    <tr>\n",
       "      <th>3</th>\n",
       "      <td>1</td>\n",
       "      <td>89</td>\n",
       "      <td>66</td>\n",
       "      <td>23</td>\n",
       "      <td>94</td>\n",
       "      <td>28.1</td>\n",
       "      <td>0.167</td>\n",
       "      <td>21</td>\n",
       "      <td>0</td>\n",
       "    </tr>\n",
       "    <tr>\n",
       "      <th>4</th>\n",
       "      <td>0</td>\n",
       "      <td>137</td>\n",
       "      <td>40</td>\n",
       "      <td>35</td>\n",
       "      <td>168</td>\n",
       "      <td>43.1</td>\n",
       "      <td>2.288</td>\n",
       "      <td>33</td>\n",
       "      <td>1</td>\n",
       "    </tr>\n",
       "  </tbody>\n",
       "</table>\n",
       "</div>"
      ],
      "text/plain": [
       "   Pregnancies  Glucose  BloodPressure  SkinThickness  Insulin   BMI  \\\n",
       "0            6      148             72             35        0  33.6   \n",
       "1            1       85             66             29        0  26.6   \n",
       "2            8      183             64              0        0  23.3   \n",
       "3            1       89             66             23       94  28.1   \n",
       "4            0      137             40             35      168  43.1   \n",
       "\n",
       "   Pedigree  Age  Outcome  \n",
       "0     0.627   50        1  \n",
       "1     0.351   31        0  \n",
       "2     0.672   32        1  \n",
       "3     0.167   21        0  \n",
       "4     2.288   33        1  "
      ]
     },
     "execution_count": 3,
     "metadata": {},
     "output_type": "execute_result"
    }
   ],
   "source": []
  },
  {
   "cell_type": "code",
   "execution_count": 2,
   "id": "63d742cb2aaedb22",
   "metadata": {
    "ExecuteTime": {
     "end_time": "2024-06-05T21:05:01.383917661Z",
     "start_time": "2024-06-05T21:05:01.231659915Z"
    },
    "collapsed": false,
    "jupyter": {
     "outputs_hidden": false
    }
   },
   "outputs": [],
   "source": [
    "# Cargamos el dataset y descartamos las observaciones con campos faltantes\n",
    "data = pd.read_csv(\"../_src/Datasets/diabetes.csv\")\n",
    "data.dropna(inplace=True)\n",
    "\n",
    "# Definimos las variables.\n",
    "X = data.drop('Outcome', axis=1)    # Queremos todas las columnas salvo Outcome\n",
    "y = data['Outcome']\n",
    "\n",
    "# Escalamos y centramos X, definimos conjuntos de entrenamiento y testeo\n",
    "X_train, X_test, y_train, y_test = train_test_split_scale_center(X, y, test_size=0.2, random_state=42)"
   ]
  },
  {
   "cell_type": "code",
   "execution_count": 15,
   "id": "418a7928075910ab",
   "metadata": {
    "ExecuteTime": {
     "end_time": "2024-06-05T21:15:09.658320003Z",
     "start_time": "2024-06-05T21:15:09.509538183Z"
    },
    "collapsed": false,
    "jupyter": {
     "outputs_hidden": false
    }
   },
   "outputs": [],
   "source": [
    "# En pro de la reproducibilidad, especificamos la semilla para keras\n",
    "keras.utils.set_random_seed(11)\n",
    "\n",
    "# Paso 1: iniciamos el modelo indicando la arquitectura de la red\n",
    "model = keras.Sequential([\n",
    "    keras.layers.Input(shape=(8,)),             # Capa de input: indicamos que el input tiene dimension 8\n",
    "    keras.layers.Dense(1,                       # Capa de output: el output tiene dimension 1 (clasificacion binaria)\n",
    "                       activation='sigmoid')    # y su funcion de activacion es la sigmoidea.\n",
    "])"
   ]
  },
  {
   "cell_type": "code",
   "execution_count": 32,
   "id": "f4af5565341e9f5f",
   "metadata": {
    "ExecuteTime": {
     "end_time": "2024-06-05T21:15:11.435440743Z",
     "start_time": "2024-06-05T21:15:11.423990243Z"
    },
    "collapsed": false,
    "jupyter": {
     "outputs_hidden": false
    }
   },
   "outputs": [],
   "source": [
    "# Paso 2: configuramos el optimizador: usaremos Descenso por Gradiente Estocástico con learning rate constante 0.5\n",
    "# Documentacion SGD : https://keras.io/api/optimizers/sgd/ \n",
    "optimizer = keras.optimizers.SGD(learning_rate=0.5)"
   ]
  },
  {
   "cell_type": "code",
   "execution_count": 33,
   "id": "9d33af6cd31d6bc0",
   "metadata": {
    "ExecuteTime": {
     "end_time": "2024-06-05T21:15:12.424543484Z",
     "start_time": "2024-06-05T21:15:12.357762289Z"
    },
    "collapsed": false,
    "jupyter": {
     "outputs_hidden": false
    }
   },
   "outputs": [],
   "source": [
    "# Paso 3: construimos el modelo\n",
    "model.compile(\n",
    "    optimizer=optimizer,            # Optimizador a utilizar\n",
    "    loss='binary_crossentropy',     # Funcion de perdida para clasificacion binaria (log loss para los amigos)\n",
    "    metrics=['accuracy',            # Metricas a registrar durante el entrenamiento\n",
    "             'false_negatives']            \n",
    ")"
   ]
  },
  {
   "cell_type": "code",
   "execution_count": 34,
   "id": "e42ed777432320d2",
   "metadata": {
    "ExecuteTime": {
     "end_time": "2024-06-05T21:15:24.194765765Z",
     "start_time": "2024-06-05T21:15:13.456094403Z"
    },
    "collapsed": false,
    "jupyter": {
     "outputs_hidden": false
    }
   },
   "outputs": [],
   "source": [
    "# Paso 4: entrenamiento del modelo. \n",
    "# model.fit devuelve un objeto History que guarda la evolucion del valor de la funcion de perdida y de las metricas \n",
    "# luego de cada epoca.\n",
    "hist = model.fit(X_train.to_numpy(), y_train.to_numpy(),    # Ingresamos los datos de entrenamiento\n",
    "                 epochs=150,                                 # Especificamos la cantidad de épocas\n",
    "                 batch_size=20,                             # Especificamos el tamaño del batch\n",
    "                 validation_split=0.2,                      # 20% de datos para validación\n",
    "                 verbose=0,                                 # Opcional, para que no muestre el proceso de entrenamiento.\n",
    "                 )"
   ]
  },
  {
   "cell_type": "code",
   "execution_count": 35,
   "id": "2ec1d7598bfea241",
   "metadata": {
    "ExecuteTime": {
     "end_time": "2024-06-05T21:15:24.255290741Z",
     "start_time": "2024-06-05T21:15:24.238340245Z"
    },
    "collapsed": false,
    "jupyter": {
     "outputs_hidden": false
    }
   },
   "outputs": [
    {
     "data": {
      "text/plain": [
       "{'accuracy': 0.7597402334213257,\n",
       " 'false_negatives': 20.0,\n",
       " 'loss': 0.5326725244522095}"
      ]
     },
     "execution_count": 35,
     "metadata": {},
     "output_type": "execute_result"
    }
   ],
   "source": [
    "# Paso 5: calculamos el error en el conjunto de testeo\n",
    "model.evaluate(X_test.to_numpy(), y_test.to_numpy(),\n",
    "               verbose=0,\n",
    "               batch_size=len(y_test),\n",
    "               return_dict=True\n",
    "               )"
   ]
  },
  {
   "cell_type": "code",
   "execution_count": 12,
   "id": "3de25e3f9e1933ec",
   "metadata": {
    "ExecuteTime": {
     "end_time": "2024-06-05T21:15:35.211204353Z",
     "start_time": "2024-06-05T21:15:35.204323012Z"
    },
    "collapsed": false,
    "jupyter": {
     "outputs_hidden": false
    }
   },
   "outputs": [],
   "source": [
    "# Armamos una funcion para graficar el error a través de las épocas\n",
    "def graficar_error(history, error_name):\n",
    "    x_arr = np.array(history.epoch)    # en el atributo epoch, history guarda una lista de epocas\n",
    "    plot = (\n",
    "        so.Plot()\n",
    "        .add(so.Line(color='blue'), x=x_arr, y=history.history[error_name], label='Entrenamiento')\n",
    "        .add(so.Line(color='orange'), x=x_arr, y=history.history[f'val_{error_name}'], label='Validacion')\n",
    "        .label(title=error_name)\n",
    "    )\n",
    "    plot.show()"
   ]
  },
  {
   "cell_type": "code",
   "execution_count": 40,
   "id": "6a8f15746a4d07d1",
   "metadata": {
    "ExecuteTime": {
     "end_time": "2024-06-05T21:15:55.931426831Z",
     "start_time": "2024-06-05T21:15:55.595902809Z"
    },
    "collapsed": false,
    "jupyter": {
     "outputs_hidden": false
    }
   },
   "outputs": [
    {
     "data": {
      "image/png": "[encoded data removed]",
      "text/plain": [
       "<Figure size 640x480 with 1 Axes>"
      ]
     },
     "metadata": {},
     "output_type": "display_data"
    }
   ],
   "source": [
    "graficar_error(hist, 'loss')"
   ]
  },
  {
   "cell_type": "markdown",
   "id": "a481c42cd70caf9f",
   "metadata": {
    "collapsed": false,
    "jupyter": {
     "outputs_hidden": false
    }
   },
   "source": [
    "Analizando los pesos, podemos interpretar qué factor es más influyente en el diagnóstico de diabetes"
   ]
  },
  {
   "cell_type": "code",
   "execution_count": 37,
   "id": "53f2ee87b78f81cd",
   "metadata": {
    "ExecuteTime": {
     "end_time": "2024-06-05T21:12:55.821329917Z",
     "start_time": "2024-06-05T21:12:55.570998229Z"
    },
    "collapsed": false,
    "jupyter": {
     "outputs_hidden": false
    }
   },
   "outputs": [
    {
     "data": {
      "text/plain": [
       "Pregnancies      0.702831\n",
       "Glucose          7.731458\n",
       "BloodPressure   -1.711889\n",
       "SkinThickness    0.436010\n",
       "Insulin         -2.913708\n",
       "BMI              7.636390\n",
       "Pedigree         1.758973\n",
       "Age              2.463747\n",
       "Name: Peso en la RN, dtype: float32"
      ]
     },
     "execution_count": 37,
     "metadata": {},
     "output_type": "execute_result"
    }
   ],
   "source": [
    "# Aqui se guardan los pesos en la primera coordenada y el bias en la segunda\n",
    "model.weights\n",
    "\n",
    "# Recuperamos los pesos:\n",
    "weights = model.weights[0].numpy().flatten()\n",
    "\n",
    "# Armamos una Serie para simplificar el análisis\n",
    "pd.Series(weights, index=X_train.columns, name='Peso en la RN')"
   ]
  },
  {
   "cell_type": "markdown",
   "id": "7022857dbea647e2",
   "metadata": {
    "collapsed": false,
    "jupyter": {
     "outputs_hidden": false
    }
   },
   "source": [
    "### 2. Perceptrón Simple : clasificación en más de dos categorías"
   ]
  },
  {
   "cell_type": "markdown",
   "id": "47336c8dd9947ff0",
   "metadata": {
    "collapsed": false,
    "jupyter": {
     "outputs_hidden": false
    }
   },
   "source": [
    "Ahora, dadas las cuatro características de los pingüinos (peso, longitud de aleta y profundidad y longitud del pico), \n",
    "intentaremos predecir de qué especie es (Adelie, Chinstrap o Gentoo)."
   ]
  },
  {
   "cell_type": "code",
   "execution_count": 38,
   "id": "15f35d70ab4f52ee",
   "metadata": {
    "ExecuteTime": {
     "end_time": "2024-06-05T21:48:11.673020629Z",
     "start_time": "2024-06-05T21:48:11.657058189Z"
    },
    "collapsed": false,
    "jupyter": {
     "outputs_hidden": false
    }
   },
   "outputs": [],
   "source": [
    "# Cargamos el dataset y descartamos las observaciones con campos faltantes\n",
    "penguins = sns.load_dataset('penguins')\n",
    "penguins.dropna(inplace=True)\n",
    "\n",
    "# Como en el dataset los pinguinos estan ordenados por especie, estaria bueno mezclar el DataFrame\n",
    "penguins = penguins.sample(len(penguins))\n",
    "\n",
    "# Definimos las variables.\n",
    "X = penguins[['bill_length_mm', 'flipper_length_mm', 'bill_depth_mm', 'body_mass_g']]\n",
    "# Armamos una Serie las etiquetas: 0 corresponde a Gentoo, 1 corresponde a Adelie, 2 corresponde a Chinstrap\n",
    "y = penguins['species'].apply(lambda x: 1*(x == 'Adelie') + 2*(x == 'Chinstrap'))    \n",
    "\n",
    "# Escalamos y centramos X, definimos conjuntos de entrenamiento y testeo\n",
    "X_train, X_test, y_train, y_test = train_test_split_scale_center(X, y, test_size=0.2, random_state=21)"
   ]
  },
  {
   "cell_type": "code",
   "execution_count": 41,
   "id": "c35e365ed79cf36a",
   "metadata": {
    "ExecuteTime": {
     "end_time": "2024-06-05T21:48:17.613735924Z",
     "start_time": "2024-06-05T21:48:13.856584907Z"
    },
    "collapsed": false,
    "jupyter": {
     "outputs_hidden": false
    }
   },
   "outputs": [
    {
     "data": {
      "text/plain": [
       "{'accuracy': 0.9552238583564758, 'loss': 0.09110856801271439}"
      ]
     },
     "execution_count": 41,
     "metadata": {},
     "output_type": "execute_result"
    }
   ],
   "source": [
    "keras.utils.set_random_seed(11)\n",
    "\n",
    "# Paso 1: iniciamos el modelo indicando la arquitectura de la red\n",
    "model = keras.Sequential([\n",
    "    keras.layers.Input(shape=(4,)),             # Capa de input: indicamos que el input tiene dimension 4\n",
    "    keras.layers.Dense(3,                       # Capa de output: el output tiene dimension 3 (una neurona para cada especie)\n",
    "                       activation='sigmoid')    # y su funcion de activacion es la sigmoidea.\n",
    "])\n",
    "\n",
    "# Paso 2: configuramos el optimizador\n",
    "optimizer = keras.optimizers.SGD(learning_rate=0.5)\n",
    "\n",
    "# Paso 3: construimos el modelo\n",
    "model.compile(\n",
    "    optimizer=optimizer,                        \n",
    "    loss='sparse_categorical_crossentropy',     # Funcion de perdida para clasificacion con mas de dos categorias\n",
    "    metrics=['accuracy']                        \n",
    ")\n",
    "\n",
    "# Paso 4: entrenamiento del modelo. \n",
    "hist = model.fit(X_train.to_numpy(), y_train.to_numpy(),    \n",
    "                 epochs=150,                                 \n",
    "                 batch_size=20,                             \n",
    "                 validation_split=0.2,                      \n",
    "                 verbose=0,                                 \n",
    "                 )\n",
    "\n",
    "# Paso 5: calculamos el error en el conjunto de testeo\n",
    "model.evaluate(X_test.to_numpy(), y_test.to_numpy(),\n",
    "               verbose=0,\n",
    "               batch_size=len(y_test),\n",
    "               return_dict=True\n",
    "               )"
   ]
  },
  {
   "cell_type": "code",
   "execution_count": 42,
   "id": "54fe16fa9c99a6ad",
   "metadata": {
    "ExecuteTime": {
     "end_time": "2024-06-05T21:48:17.929130201Z",
     "start_time": "2024-06-05T21:48:17.620012292Z"
    },
    "collapsed": false,
    "jupyter": {
     "outputs_hidden": false
    }
   },
   "outputs": [
    {
     "data": {
      "image/png": "[encoded data removed]",
      "text/plain": [
       "<Figure size 640x480 with 1 Axes>"
      ]
     },
     "metadata": {},
     "output_type": "display_data"
    }
   ],
   "source": [
    "# Graficamos la evolucion de la precision de la clasficiacion\n",
    "graficar_error(hist, 'accuracy')"
   ]
  },
  {
   "cell_type": "markdown",
   "id": "d25599f3dc9b0a13",
   "metadata": {
    "collapsed": false,
    "jupyter": {
     "outputs_hidden": false
    }
   },
   "source": [
    "### 3. Perceptrón Multicapa"
   ]
  },
  {
   "cell_type": "code",
   "execution_count": 39,
   "id": "98db6bc8224958d3",
   "metadata": {
    "ExecuteTime": {
     "end_time": "2024-06-05T22:29:24.144782734Z",
     "start_time": "2024-06-05T22:29:23.921652064Z"
    },
    "collapsed": false,
    "jupyter": {
     "outputs_hidden": false
    }
   },
   "outputs": [
    {
     "data": {
      "text/plain": [
       "FDC_ID                0\n",
       "Item                  0\n",
       "Category              0\n",
       "Calorias_kcal         0\n",
       "Proteinas_g           0\n",
       "Carbohidratos_g       0\n",
       "GrasaTotal_g          0\n",
       "Colesterol_mg       399\n",
       "Fibra_g             562\n",
       "Agua_g                0\n",
       "Alcohol_g          2394\n",
       "VitaminaC_mg        461\n",
       "dtype: int64"
      ]
     },
     "execution_count": 39,
     "metadata": {},
     "output_type": "execute_result"
    }
   ],
   "source": [
    "data = pd.read_csv('../_src/Datasets/nutrition.csv')\n",
    "data.isna().sum()"
   ]
  },
  {
   "cell_type": "code",
   "execution_count": 43,
   "id": "7395eb34-2c56-4496-a12a-411d4ac58324",
   "metadata": {},
   "outputs": [
    {
     "data": {
      "text/plain": [
       "(7793, 12)"
      ]
     },
     "execution_count": 43,
     "metadata": {},
     "output_type": "execute_result"
    }
   ],
   "source": [
    "data.shape"
   ]
  },
  {
   "cell_type": "code",
   "execution_count": 44,
   "id": "3e3ecfc4966388a6",
   "metadata": {
    "ExecuteTime": {
     "end_time": "2024-06-05T22:34:50.620026530Z",
     "start_time": "2024-06-05T22:34:50.603797462Z"
    },
    "collapsed": false,
    "jupyter": {
     "outputs_hidden": false
    }
   },
   "outputs": [
    {
     "data": {
      "text/plain": [
       "Index(['FDC_ID', 'Item', 'Category', 'Calorias_kcal', 'Proteinas_g',\n",
       "       'Carbohidratos_g', 'GrasaTotal_g', 'Colesterol_mg', 'Fibra_g', 'Agua_g',\n",
       "       'Alcohol_g', 'VitaminaC_mg'],\n",
       "      dtype='object')"
      ]
     },
     "execution_count": 44,
     "metadata": {},
     "output_type": "execute_result"
    }
   ],
   "source": [
    "data.dropna(inplace=True)\n",
    "data.columns"
   ]
  },
  {
   "cell_type": "code",
   "execution_count": 45,
   "id": "6096dbe5aaf6faf2",
   "metadata": {
    "ExecuteTime": {
     "end_time": "2024-06-05T22:52:36.295043322Z",
     "start_time": "2024-06-05T22:52:36.170765785Z"
    },
    "collapsed": false,
    "jupyter": {
     "outputs_hidden": false
    }
   },
   "outputs": [],
   "source": [
    "X = data.drop(columns=['FDC_ID', 'Item', 'Category', 'Calorias_kcal'])\n",
    "y = data['Calorias_kcal']\n",
    "\n",
    "# Escalamos y centramos X, definimos conjuntos de entrenamiento y testeo\n",
    "X_train, X_test, y_train, y_test = train_test_split_scale_center(X, y, transform_y=True, test_size=0.2, random_state=21)"
   ]
  },
  {
   "cell_type": "code",
   "execution_count": 46,
   "id": "2517a12def2fe070",
   "metadata": {
    "ExecuteTime": {
     "end_time": "2024-06-05T22:53:07.921509495Z",
     "start_time": "2024-06-05T22:52:58.871540549Z"
    },
    "collapsed": false,
    "jupyter": {
     "outputs_hidden": false
    }
   },
   "outputs": [
    {
     "data": {
      "text/plain": [
       "{'loss': 0.0011638907017186284}"
      ]
     },
     "execution_count": 46,
     "metadata": {},
     "output_type": "execute_result"
    }
   ],
   "source": [
    "keras.utils.set_random_seed(11)\n",
    "\n",
    "# Paso 1: iniciamos el modelo indicando la arquitectura de la red\n",
    "model = keras.Sequential([\n",
    "    keras.layers.Input(shape=(X_train.shape[1],)), \n",
    "    keras.layers.Dense(4,                       \n",
    "                       activation='sigmoid'),\n",
    "    keras.layers.Dense(1,                       \n",
    "                       activation='sigmoid')    \n",
    "])\n",
    "\n",
    "# Paso 2: configuramos el optimizador\n",
    "optimizer = keras.optimizers.SGD(learning_rate=0.5)\n",
    "\n",
    "# Paso 3: construimos el modelo\n",
    "model.compile(\n",
    "    optimizer=optimizer,                        \n",
    "    loss='mean_squared_error',                    \n",
    ")\n",
    "\n",
    "# Paso 4: entrenamiento del modelo. \n",
    "hist = model.fit(X_train.to_numpy(), y_train.to_numpy(),    \n",
    "                 epochs=100,                                 \n",
    "                 batch_size=20,                             \n",
    "                 validation_split=0.2,                      \n",
    "                 verbose=0,                                 \n",
    "                 )\n",
    "\n",
    "# Paso 5: calculamos el error en el conjunto de testeo\n",
    "model.evaluate(X_test.to_numpy(), y_test.to_numpy(),\n",
    "               verbose=0,\n",
    "               batch_size=len(y_test),\n",
    "               return_dict=True\n",
    "               )"
   ]
  },
  {
   "cell_type": "code",
   "execution_count": 50,
   "id": "adec92465f1d6238",
   "metadata": {
    "ExecuteTime": {
     "end_time": "2024-06-05T22:53:18.684348754Z",
     "start_time": "2024-06-05T22:53:18.340356290Z"
    },
    "collapsed": false,
    "jupyter": {
     "outputs_hidden": false
    }
   },
   "outputs": [
    {
     "data": {
      "image/png": "[encoded data removed]",
      "text/plain": [
       "<Figure size 640x480 with 1 Axes>"
      ]
     },
     "metadata": {},
     "output_type": "display_data"
    }
   ],
   "source": [
    "graficar_error(hist, 'loss')"
   ]
  },
  {
   "cell_type": "code",
   "execution_count": 48,
   "id": "22a85ba4",
   "metadata": {},
   "outputs": [
    {
     "ename": "KeyError",
     "evalue": "'accuracy'",
     "output_type": "error",
     "traceback": [
      "\u001b[1;31m---------------------------------------------------------------------------\u001b[0m",
      "\u001b[1;31mKeyError\u001b[0m                                  Traceback (most recent call last)",
      "Cell \u001b[1;32mIn[48], line 1\u001b[0m\n\u001b[1;32m----> 1\u001b[0m \u001b[43mgraficar_error\u001b[49m\u001b[43m(\u001b[49m\u001b[43mhist\u001b[49m\u001b[43m,\u001b[49m\u001b[43m \u001b[49m\u001b[38;5;124;43m'\u001b[39;49m\u001b[38;5;124;43maccuracy\u001b[39;49m\u001b[38;5;124;43m'\u001b[39;49m\u001b[43m)\u001b[49m\n",
      "Cell \u001b[1;32mIn[12], line 6\u001b[0m, in \u001b[0;36mgraficar_error\u001b[1;34m(history, error_name)\u001b[0m\n\u001b[0;32m      2\u001b[0m \u001b[38;5;28;01mdef\u001b[39;00m \u001b[38;5;21mgraficar_error\u001b[39m(history, error_name):\n\u001b[0;32m      3\u001b[0m     x_arr \u001b[38;5;241m=\u001b[39m np\u001b[38;5;241m.\u001b[39marray(history\u001b[38;5;241m.\u001b[39mepoch)    \u001b[38;5;66;03m# en el atributo epoch, history guarda una lista de epocas\u001b[39;00m\n\u001b[0;32m      4\u001b[0m     plot \u001b[38;5;241m=\u001b[39m (\n\u001b[0;32m      5\u001b[0m         so\u001b[38;5;241m.\u001b[39mPlot()\n\u001b[1;32m----> 6\u001b[0m         \u001b[38;5;241m.\u001b[39madd(so\u001b[38;5;241m.\u001b[39mLine(color\u001b[38;5;241m=\u001b[39m\u001b[38;5;124m'\u001b[39m\u001b[38;5;124mblue\u001b[39m\u001b[38;5;124m'\u001b[39m), x\u001b[38;5;241m=\u001b[39mx_arr, y\u001b[38;5;241m=\u001b[39m\u001b[43mhistory\u001b[49m\u001b[38;5;241;43m.\u001b[39;49m\u001b[43mhistory\u001b[49m\u001b[43m[\u001b[49m\u001b[43merror_name\u001b[49m\u001b[43m]\u001b[49m, label\u001b[38;5;241m=\u001b[39m\u001b[38;5;124m'\u001b[39m\u001b[38;5;124mEntrenamiento\u001b[39m\u001b[38;5;124m'\u001b[39m)\n\u001b[0;32m      7\u001b[0m         \u001b[38;5;241m.\u001b[39madd(so\u001b[38;5;241m.\u001b[39mLine(color\u001b[38;5;241m=\u001b[39m\u001b[38;5;124m'\u001b[39m\u001b[38;5;124morange\u001b[39m\u001b[38;5;124m'\u001b[39m), x\u001b[38;5;241m=\u001b[39mx_arr, y\u001b[38;5;241m=\u001b[39mhistory\u001b[38;5;241m.\u001b[39mhistory[\u001b[38;5;124mf\u001b[39m\u001b[38;5;124m'\u001b[39m\u001b[38;5;124mval_\u001b[39m\u001b[38;5;132;01m{\u001b[39;00merror_name\u001b[38;5;132;01m}\u001b[39;00m\u001b[38;5;124m'\u001b[39m], label\u001b[38;5;241m=\u001b[39m\u001b[38;5;124m'\u001b[39m\u001b[38;5;124mValidacion\u001b[39m\u001b[38;5;124m'\u001b[39m)\n\u001b[0;32m      8\u001b[0m         \u001b[38;5;241m.\u001b[39mlabel(title\u001b[38;5;241m=\u001b[39merror_name)\n\u001b[0;32m      9\u001b[0m     )\n\u001b[0;32m     10\u001b[0m     plot\u001b[38;5;241m.\u001b[39mshow()\n",
      "\u001b[1;31mKeyError\u001b[0m: 'accuracy'"
     ]
    }
   ],
   "source": [
    "graficar_error(hist, '')"
   ]
  }
 ],
 "metadata": {
  "kernelspec": {
   "display_name": "Python 3 (ipykernel)",
   "language": "python",
   "name": "python3"
  },
  "language_info": {
   "codemirror_mode": {
    "name": "ipython",
    "version": 3
   },
   "file_extension": ".py",
   "mimetype": "text/x-python",
   "name": "python",
   "nbconvert_exporter": "python",
   "pygments_lexer": "ipython3",
   "version": "3.12.2"
  }
 },
 "nbformat": 4,
 "nbformat_minor": 5
}
