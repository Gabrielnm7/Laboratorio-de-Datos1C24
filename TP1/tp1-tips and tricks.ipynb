{
 "cells": [
  {
   "cell_type": "markdown",
   "id": "dfb263db",
   "metadata": {},
   "source": [
    "# TP1: Procesamiento de Datos - Resuelto\n",
    "\n",
    "Hay más de una manera de resolver cualquiera de estos ejercicios. Aquí algunas de las más naturales, sin rodeos, y en estilo \"pythónico\" como referencia futura para ustedes:"
   ]
  },
  {
   "cell_type": "code",
   "execution_count": 41,
   "id": "c9b5c6e6",
   "metadata": {},
   "outputs": [],
   "source": [
    "import pandas as pd"
   ]
  },
  {
   "cell_type": "code",
   "execution_count": 42,
   "id": "50cc5e29",
   "metadata": {},
   "outputs": [],
   "source": [
    "df = pd.read_csv(\"sube-2023.csv\")"
   ]
  },
  {
   "cell_type": "code",
   "execution_count": 43,
   "id": "345bf0b0",
   "metadata": {},
   "outputs": [
    {
     "data": {
      "text/html": [
       "<div>\n",
       "<style scoped>\n",
       "    .dataframe tbody tr th:only-of-type {\n",
       "        vertical-align: middle;\n",
       "    }\n",
       "\n",
       "    .dataframe tbody tr th {\n",
       "        vertical-align: top;\n",
       "    }\n",
       "\n",
       "    .dataframe thead th {\n",
       "        text-align: right;\n",
       "    }\n",
       "</style>\n",
       "<table border=\"1\" class=\"dataframe\">\n",
       "  <thead>\n",
       "    <tr style=\"text-align: right;\">\n",
       "      <th></th>\n",
       "      <th>DIA_TRANSPORTE</th>\n",
       "      <th>NOMBRE_EMPRESA</th>\n",
       "      <th>LINEA</th>\n",
       "      <th>AMBA</th>\n",
       "      <th>TIPO_TRANSPORTE</th>\n",
       "      <th>JURISDICCION</th>\n",
       "      <th>PROVINCIA</th>\n",
       "      <th>MUNICIPIO</th>\n",
       "      <th>CANTIDAD</th>\n",
       "      <th>DATO_PRELIMINAR</th>\n",
       "    </tr>\n",
       "  </thead>\n",
       "  <tbody>\n",
       "    <tr>\n",
       "      <th>0</th>\n",
       "      <td>2023-01-01</td>\n",
       "      <td>MUNICIPALIDAD DE MERCEDES PROVINCIA DE BUENOS ...</td>\n",
       "      <td>1</td>\n",
       "      <td>SI</td>\n",
       "      <td>COLECTIVO</td>\n",
       "      <td>MUNICIPAL</td>\n",
       "      <td>BUENOS AIRES</td>\n",
       "      <td>MERCEDES</td>\n",
       "      <td>61</td>\n",
       "      <td>NO</td>\n",
       "    </tr>\n",
       "    <tr>\n",
       "      <th>1</th>\n",
       "      <td>2023-01-01</td>\n",
       "      <td>MUNICIPALIDAD DE MERCEDES PROVINCIA DE BUENOS ...</td>\n",
       "      <td>2B</td>\n",
       "      <td>SI</td>\n",
       "      <td>COLECTIVO</td>\n",
       "      <td>MUNICIPAL</td>\n",
       "      <td>BUENOS AIRES</td>\n",
       "      <td>MERCEDES</td>\n",
       "      <td>11</td>\n",
       "      <td>NO</td>\n",
       "    </tr>\n",
       "    <tr>\n",
       "      <th>2</th>\n",
       "      <td>2023-01-01</td>\n",
       "      <td>EMPRESA BATAN S.A.</td>\n",
       "      <td>BS_AS_LINEA 715M</td>\n",
       "      <td>NO</td>\n",
       "      <td>COLECTIVO</td>\n",
       "      <td>MUNICIPAL</td>\n",
       "      <td>BUENOS AIRES</td>\n",
       "      <td>GENERAL PUEYRREDON</td>\n",
       "      <td>1707</td>\n",
       "      <td>NO</td>\n",
       "    </tr>\n",
       "    <tr>\n",
       "      <th>3</th>\n",
       "      <td>2023-01-01</td>\n",
       "      <td>COMPAÑIA  DE TRANSPORTE VECINAL S.A.</td>\n",
       "      <td>BS_AS_LINEA_326</td>\n",
       "      <td>SI</td>\n",
       "      <td>COLECTIVO</td>\n",
       "      <td>PROVINCIAL</td>\n",
       "      <td>BUENOS AIRES</td>\n",
       "      <td>SN</td>\n",
       "      <td>438</td>\n",
       "      <td>NO</td>\n",
       "    </tr>\n",
       "    <tr>\n",
       "      <th>4</th>\n",
       "      <td>2023-01-01</td>\n",
       "      <td>EMPRESA DE TRANSPORTE PERALTA RAMOS SACI</td>\n",
       "      <td>BS_AS_LINEA_512</td>\n",
       "      <td>NO</td>\n",
       "      <td>COLECTIVO</td>\n",
       "      <td>MUNICIPAL</td>\n",
       "      <td>BUENOS AIRES</td>\n",
       "      <td>GENERAL PUEYRREDON</td>\n",
       "      <td>1189</td>\n",
       "      <td>NO</td>\n",
       "    </tr>\n",
       "  </tbody>\n",
       "</table>\n",
       "</div>"
      ],
      "text/plain": [
       "  DIA_TRANSPORTE                                     NOMBRE_EMPRESA  \\\n",
       "0     2023-01-01  MUNICIPALIDAD DE MERCEDES PROVINCIA DE BUENOS ...   \n",
       "1     2023-01-01  MUNICIPALIDAD DE MERCEDES PROVINCIA DE BUENOS ...   \n",
       "2     2023-01-01                                 EMPRESA BATAN S.A.   \n",
       "3     2023-01-01               COMPAÑIA  DE TRANSPORTE VECINAL S.A.   \n",
       "4     2023-01-01           EMPRESA DE TRANSPORTE PERALTA RAMOS SACI   \n",
       "\n",
       "              LINEA AMBA TIPO_TRANSPORTE JURISDICCION     PROVINCIA  \\\n",
       "0                 1   SI       COLECTIVO    MUNICIPAL  BUENOS AIRES   \n",
       "1                2B   SI       COLECTIVO    MUNICIPAL  BUENOS AIRES   \n",
       "2  BS_AS_LINEA 715M   NO       COLECTIVO    MUNICIPAL  BUENOS AIRES   \n",
       "3   BS_AS_LINEA_326   SI       COLECTIVO   PROVINCIAL  BUENOS AIRES   \n",
       "4   BS_AS_LINEA_512   NO       COLECTIVO    MUNICIPAL  BUENOS AIRES   \n",
       "\n",
       "            MUNICIPIO  CANTIDAD DATO_PRELIMINAR  \n",
       "0            MERCEDES        61              NO  \n",
       "1            MERCEDES        11              NO  \n",
       "2  GENERAL PUEYRREDON      1707              NO  \n",
       "3                  SN       438              NO  \n",
       "4  GENERAL PUEYRREDON      1189              NO  "
      ]
     },
     "execution_count": 43,
     "metadata": {},
     "output_type": "execute_result"
    }
   ],
   "source": [
    "df.head()"
   ]
  },
  {
   "cell_type": "markdown",
   "id": "908c8839",
   "metadata": {},
   "source": [
    "## Punto 1"
   ]
  },
  {
   "cell_type": "markdown",
   "id": "d88120cd",
   "metadata": {},
   "source": [
    "### (a) (i) Visualizar el tipo de datos de cada columna.\n",
    "Sugerencia: investigar la función `to_datetime` de pandas. Para completar el argumento `format`, revisar la documentación de `datetime`.\n",
    "\n",
    "En (i) el _atributo_ `dtypes` de un DataFrame cuenta con la información necesaria. El _método_ `info`, sin argumentos, es un poco más informativo.\n",
    "\n",
    "En (ii), como la fecha _ya está en formato ISO 8601_, el estándar internacional más expandido, no hace falta especificar el argumento `format`. La referencia más clara sobre cómo interpretar texto como fechas está en la docu: [strftime() and strptime() Behavior](https://docs.python.org/3/library/datetime.html#strftime-and-strptime-behavior)"
   ]
  },
  {
   "cell_type": "code",
   "execution_count": 141,
   "id": "151c3a98",
   "metadata": {},
   "outputs": [
    {
     "name": "stdout",
     "output_type": "stream",
     "text": [
      "<class 'pandas.core.frame.DataFrame'>\n",
      "RangeIndex: 472291 entries, 0 to 472290\n",
      "Data columns (total 13 columns):\n",
      " #   Column           Non-Null Count   Dtype         \n",
      "---  ------           --------------   -----         \n",
      " 0   DIA_TRANSPORTE   472291 non-null  datetime64[ns]\n",
      " 1   NOMBRE_EMPRESA   472291 non-null  object        \n",
      " 2   LINEA            472291 non-null  object        \n",
      " 3   AMBA             472291 non-null  bool          \n",
      " 4   TIPO_TRANSPORTE  472291 non-null  object        \n",
      " 5   JURISDICCION     469742 non-null  object        \n",
      " 6   PROVINCIA        469720 non-null  object        \n",
      " 7   MUNICIPIO        469720 non-null  object        \n",
      " 8   CANTIDAD         472291 non-null  int64         \n",
      " 9   DATO_PRELIMINAR  472291 non-null  bool          \n",
      " 10  FECHA_DIA        472291 non-null  object        \n",
      " 11  FECHA_ORDINAL    472291 non-null  int64         \n",
      " 12  FECHA_MES        472291 non-null  object        \n",
      "dtypes: bool(2), datetime64[ns](1), int64(2), object(8)\n",
      "memory usage: 40.5+ MB\n"
     ]
    }
   ],
   "source": [
    "# Visualizar el tipo de datos de cada columna.\n",
    "df.info()"
   ]
  },
  {
   "cell_type": "code",
   "execution_count": 142,
   "id": "82f02ea9",
   "metadata": {},
   "outputs": [
    {
     "data": {
      "text/plain": [
       "DIA_TRANSPORTE     datetime64[ns]\n",
       "NOMBRE_EMPRESA             object\n",
       "LINEA                      object\n",
       "AMBA                         bool\n",
       "TIPO_TRANSPORTE            object\n",
       "JURISDICCION               object\n",
       "PROVINCIA                  object\n",
       "MUNICIPIO                  object\n",
       "CANTIDAD                    int64\n",
       "DATO_PRELIMINAR              bool\n",
       "FECHA_DIA                  object\n",
       "FECHA_ORDINAL               int64\n",
       "FECHA_MES                  object\n",
       "dtype: object"
      ]
     },
     "execution_count": 142,
     "metadata": {},
     "output_type": "execute_result"
    }
   ],
   "source": [
    "df.dtypes"
   ]
  },
  {
   "cell_type": "markdown",
   "id": "a7b11485",
   "metadata": {},
   "source": [
    "#### Un comentario sobre `dtypes`\n",
    "Alguien escribió\n",
    "```python\n",
    "# Lo hacemos de esta manera, ya que si usamos el .dtype , nos dice que son todos objetos\n",
    "for columna in sube2023.columns:\n",
    "    print(\"la columna {0} tiene tipo {1}\".format(columna, type(sube2023[columna][0])))\n",
    "```\n",
    "\n",
    "Mas allá de que no es cierto(`CANTIDAD` es de `dtype int` (entero). hay una diferencia entre el tipo de\n",
    "1. una columna en el DataFrame (que es `pd.Series`),\n",
    "1. el valor de una celda cualquiera en una columna, y\n",
    "1. el tipo de datos del array de numpy subyacente a la serie.\n",
    "\n",
    "El `dtype` de un `np.array`, será el tipo de datos más genérico que soporte a todos los elementos del array.\n",
    "Vean:\n"
   ]
  },
  {
   "cell_type": "code",
   "execution_count": 143,
   "id": "00ef42c5",
   "metadata": {},
   "outputs": [
    {
     "data": {
      "text/plain": [
       "(pandas.core.series.Series,\n",
       " dtype('O'),\n",
       " {'True': bool, '1': int, 'uno': str, '1.2': float})"
      ]
     },
     "execution_count": 143,
     "metadata": {},
     "output_type": "execute_result"
    }
   ],
   "source": [
    "s = pd.Series([True, 1, \"uno\", 1.2])\n",
    "type(s), s.dtype, {str(v): type(v) for v in s.values}"
   ]
  },
  {
   "cell_type": "markdown",
   "id": "00f1412b",
   "metadata": {},
   "source": [
    "Cuando no hay un `dtype` específico que soporte a todos los elementos, se defaultea al tipo `object` (\"O\"), pero cada elemento conserva su tipo original. Cuando sí existe tal tipo, pues se pueden _coercionar_ los distintos elementos a algo más específico sí que todos los elementos lo toman:"
   ]
  },
  {
   "cell_type": "code",
   "execution_count": 144,
   "id": "658a3d2a",
   "metadata": {},
   "outputs": [
    {
     "data": {
      "text/plain": [
       "(pandas.core.series.Series,\n",
       " dtype('float64'),\n",
       " {'1.2': numpy.float64, '12.0': numpy.float64})"
      ]
     },
     "execution_count": 144,
     "metadata": {},
     "output_type": "execute_result"
    }
   ],
   "source": [
    "s = pd.Series([1.2, 12])\n",
    "type(s), s.dtype, {str(v): type(v) for v in s.values}"
   ]
  },
  {
   "cell_type": "markdown",
   "id": "66492c81",
   "metadata": {},
   "source": [
    " `object`, es, de hecho, es el tipo por default para `string`s (y todo otro objeto arbitrario): de la [docu](https://pandas.pydata.org/docs/user_guide/text.html),\n",
    "> For backwards-compatibility, `object` dtype remains the default type we infer a list of strings to\n",
    "\n"
   ]
  },
  {
   "cell_type": "markdown",
   "id": "78d9ff77",
   "metadata": {},
   "source": [
    "### (ii) Transformar la columna DIA_TRANSPORTE para que sea reconocida como una fecha.\n",
    "Cuando un array de numpy tiene un formato de fecha así de prolijo, se lo puede _castear_ a `datetime` cambiándole el tipo directamente, con `astype(\"datetime64[ns]\")`."
   ]
  },
  {
   "cell_type": "code",
   "execution_count": 46,
   "id": "8e5e81b1",
   "metadata": {},
   "outputs": [],
   "source": [
    "assert df.DIA_TRANSPORTE.astype(\"datetime64[ns]\").equals(\n",
    "    pd.to_datetime(df.DIA_TRANSPORTE)\n",
    ")\n",
    "df[\"DIA_TRANSPORTE\"] = pd.to_datetime(df.DIA_TRANSPORTE)"
   ]
  },
  {
   "cell_type": "markdown",
   "id": "f4a28aaa",
   "metadata": {},
   "source": [
    "### (b) Agregar tres columnas al DataFrame:\n",
    "\n",
    "1. `FECHA_DIA` : debe indicar el nombre del día de la semana correspondiente a `DIA_TRANSPORTE`\n",
    "1. `FECHA_ORDINAL` : debe indicar el ordinal correspondiente a `DIA_TRANSPORTE` (por ejemplo, a 2023-01-01 le corresponde 1, a 2023-01-02 le corresponde 2 y así sucesivamente). Debe ser un entero (int).\n",
    "1. `FECHA_MES` : debe indicar el [nombre|número] mes correspondiente a `DIA_TRANSPORTE`.\n",
    "\n",
    "Sugerencia: investigar el método `apply` de DataFrame\n",
    "\n",
    "#### \"Accesor\" `pd.Series.dt`\n",
    "La sugerencia de `apply`, aunque técnicamente correcta y alineada con lo visto en clase, no es la forma más directa de resolver estas cuestiones. De la misma manera que `pd.Series.str` provee acceso a todos los métodos comunes del tipo `str` (cadena de texto) pero vectorizados sobre la serie completa, `pd.Series.dt` ([docs](https://pandas.pydata.org/docs/reference/api/pandas.Series.dt.html)) provee el acceso equivalente para los objetos de tipo `datetime`. En general, si `s` es una serie con `dtype` `datetime`, `s.dt.metodo_dt(...)` es equivalente a `s.apply(lambda x: x.metodo_dt(...))`, y ligeramente más rápido.\n",
    "\n",
    "Para todas estas consignas, hay al menos dos formas de hacerlo, además de la amplia creatividad del alumnado. O bien con un método de `datetime` directamente, o bien con la navaja suiza de formateo de fechas, `strftime` y una string de formato adecuada. Ambas son igual de válidas."
   ]
  },
  {
   "cell_type": "markdown",
   "id": "e8cd6031",
   "metadata": {},
   "source": [
    "#### FECHA_DIA"
   ]
  },
  {
   "cell_type": "code",
   "execution_count": 47,
   "id": "e8de9557",
   "metadata": {},
   "outputs": [
    {
     "data": {
      "text/plain": [
       "FECHA_DIA\n",
       "miércoles    70432\n",
       "jueves       69989\n",
       "martes       69812\n",
       "viernes      69405\n",
       "lunes        68572\n",
       "sábado       64141\n",
       "domingo      59940\n",
       "Name: count, dtype: int64"
      ]
     },
     "execution_count": 47,
     "metadata": {},
     "output_type": "execute_result"
    }
   ],
   "source": [
    "df[\"FECHA_DIA\"] = df.DIA_TRANSPORTE.dt.strftime(\"%A\")\n",
    "df.FECHA_DIA.value_counts()"
   ]
  },
  {
   "cell_type": "markdown",
   "id": "22020a6e",
   "metadata": {},
   "source": [
    "\n",
    "#### Localización\n",
    "Verán que por defecto, los _nombres_ de días y meses están en inglés (o el idioma de su sistema operativo, si lo han configurado). Para que Python los _localice_ (i.e., los represente en el idioma del usuario), hay que setear correctamente el \"local\" de nuestro código. Una vez que se setea el \"[locale](https://docs.python.org/3/library/locale.html)\", `strftime` siempre lo respetará. A los métodos específicos de `pd.Series.dt`, hay que especificárselo en cada llamada, pues el \"default\" es `\"en_US.utf8\"`.\n"
   ]
  },
  {
   "cell_type": "code",
   "execution_count": 48,
   "id": "ae0486e7",
   "metadata": {},
   "outputs": [
    {
     "data": {
      "text/plain": [
       "'es_ES'"
      ]
     },
     "execution_count": 48,
     "metadata": {},
     "output_type": "execute_result"
    }
   ],
   "source": [
    "import locale\n",
    "\n",
    "# https://docs.python.org/3/library/locale.html#locale.setlocale\n",
    "locale.setlocale(locale.LC_ALL, \"es_ES\")"
   ]
  },
  {
   "cell_type": "code",
   "execution_count": 49,
   "id": "ee6b6103",
   "metadata": {},
   "outputs": [
    {
     "data": {
      "text/plain": [
       "FECHA_DIA\n",
       "miércoles    70432\n",
       "jueves       69989\n",
       "martes       69812\n",
       "viernes      69405\n",
       "lunes        68572\n",
       "sábado       64141\n",
       "domingo      59940\n",
       "Name: count, dtype: int64"
      ]
     },
     "execution_count": 49,
     "metadata": {},
     "output_type": "execute_result"
    }
   ],
   "source": [
    "df[\"FECHA_DIA\"] = df.DIA_TRANSPORTE.dt.strftime(\"%A\")\n",
    "df.FECHA_DIA.value_counts()"
   ]
  },
  {
   "cell_type": "code",
   "execution_count": 50,
   "id": "415f757a",
   "metadata": {},
   "outputs": [
    {
     "data": {
      "text/plain": [
       "DIA_TRANSPORTE\n",
       "Miércoles    70432\n",
       "Jueves       69989\n",
       "Martes       69812\n",
       "Viernes      69405\n",
       "Lunes        68572\n",
       "Sábado       64141\n",
       "Domingo      59940\n",
       "Name: count, dtype: int64"
      ]
     },
     "execution_count": 50,
     "metadata": {},
     "output_type": "execute_result"
    }
   ],
   "source": [
    "df.DIA_TRANSPORTE.dt.day_name(locale=\"es_ES\").value_counts()"
   ]
  },
  {
   "cell_type": "markdown",
   "id": "7508197e",
   "metadata": {},
   "source": [
    "#### FECHA_ORDINAL\n",
    "Para `FECHA_ORDINAL`, muchos dieron el día relativo al mes, pero el \"por ejemplo\" habla del primer día del año (`2023-01-01`), y no del primer día de un mes. `\"%j%` para `strftime` (escribir fechas) y `strptime` (leer/interpretar fechas) y `dt.dayofyear` cumplen la función."
   ]
  },
  {
   "cell_type": "code",
   "execution_count": 51,
   "id": "d6493570",
   "metadata": {},
   "outputs": [],
   "source": [
    "df[\"FECHA_ORDINAL\"] = df.DIA_TRANSPORTE.dt.strftime(\"%j\").astype(int)\n",
    "assert (df.FECHA_ORDINAL == df.DIA_TRANSPORTE.dt.dayofyear).all()\n"
   ]
  },
  {
   "cell_type": "markdown",
   "id": "6274ba84",
   "metadata": {},
   "source": [
    "#### Otras resoluciones\n",
    "\n",
    "##### `datetime.toordinal()`\n",
    "\n",
    "Hubo quien hizo:\n"
   ]
  },
  {
   "cell_type": "code",
   "execution_count": 52,
   "id": "20eb9ca4",
   "metadata": {},
   "outputs": [],
   "source": [
    "df[\"FECHA_ORDINAL\"] = df[\"DIA_TRANSPORTE\"].apply(lambda x: x.toordinal()) - 738520\n",
    "# O aún\n",
    "df[\"FECHA_ORDINAL\"] = df[\"DIA_TRANSPORTE\"].apply(lambda x: x.toordinal()) - (\n",
    "    df.DIA_TRANSPORTE.min().toordinal() + 1\n",
    ")"
   ]
  },
  {
   "cell_type": "markdown",
   "id": "5cef31e8",
   "metadata": {},
   "source": [
    "Aquí el método es adecuado, pero peligroso por el \"hard-coding\" del \"día cero\", a un entero fijo, o hacerlo dependiente del `DataFrame` evaluado. ¿Y si no había datos para el 1 de Enero? Una opción, sería:"
   ]
  },
  {
   "cell_type": "code",
   "execution_count": 53,
   "id": "5570f991",
   "metadata": {},
   "outputs": [],
   "source": [
    "import datetime as dt\n",
    "dia_cero = dt.date(2022, 12, 31).toordinal()\n",
    "df[\"FECHA_ORDINAL\"] = df.DIA_TRANSPORTE.apply(dt.date.toordinal) - dia_cero"
   ]
  },
  {
   "cell_type": "code",
   "execution_count": 54,
   "id": "1296414d",
   "metadata": {},
   "outputs": [],
   "source": [
    "assert (738520 == df.DIA_TRANSPORTE.min().toordinal() - 1) and (\n",
    "    738520 == dia_cero  # 31/12/22\n",
    ")"
   ]
  },
  {
   "cell_type": "markdown",
   "id": "91105a97",
   "metadata": {},
   "source": [
    "Esta versión es especialmente útil cuando hay que numerar días cptes. a períodos interanuales, o que no arrancan el 1/1 de un año.\n",
    "\n",
    "##### Funciones de conteo\n",
    "Algunos \"reinventaron la rueda\" con su propia función de conteo."
   ]
  },
  {
   "cell_type": "code",
   "execution_count": 55,
   "id": "49d23011",
   "metadata": {},
   "outputs": [],
   "source": [
    "def fecha_ordinal(fecha):\n",
    "    dias_meses = [31, 28, 31, 30, 31, 30, 31, 31, 30, 31, 30, 31]\n",
    "    mes = fecha.month\n",
    "    dia = fecha.day\n",
    "    ordinal = 0\n",
    "    for i in range(mes - 1):\n",
    "        ordinal += dias_meses[i]\n",
    "    ordinal += dia\n",
    "    return ordinal"
   ]
  },
  {
   "cell_type": "markdown",
   "id": "5d1acf97",
   "metadata": {},
   "source": [
    "\n",
    "Peligrosa práctica: para cosas tan comunes, de seguro algún ingeniero bien pago ya lo hizo mejor que nosotros, y lo agregó a la librería básica.\n",
    "¿Qué pasa si el año es bisiesto? ¿Si el año es previo al calendario gregoriano? Parece mentira, pero esas cosas pasan, y ya están contempladas en las funciones estándares."
   ]
  },
  {
   "cell_type": "markdown",
   "id": "e4c27815",
   "metadata": {},
   "source": [
    "##### `date.timetuple().tm_yday`\n",
    "Esta no la me la sabía. Resulta que `date` tiene un método [`timetuple`](https://docs.python.org/3/library/datetime.html#datetime.date.timetuple) que expresa la fecha como un [`time.struct_time`](https://docs.python.org/3/library/time.html#time.struct_time), una \"tupla temporal\", que es una representación numérica bastante útil. Un poco arcana, pero válida. Como `tm_yday` es atributo de la tupla temporal que devuelve `date.timetuple()` y no del objeto Datetime, aquí sí se hace necesario definir un método que pasarle a `apply`. Recuerden, en general, que es preferible definir el método brevemente y no en un `lambda` \"al vuelo\":"
   ]
  },
  {
   "cell_type": "code",
   "execution_count": 56,
   "id": "6fd46d01",
   "metadata": {},
   "outputs": [],
   "source": [
    "def get_fecha_ordinal(date):\n",
    "  return date.timetuple().tm_yday\n",
    "\n",
    "df[\"FECHA_ORDINAL\"] = df.DIA_TRANSPORTE.apply(get_fecha_ordinal)"
   ]
  },
  {
   "cell_type": "markdown",
   "id": "900760bd",
   "metadata": {},
   "source": [
    "#### FECHA_MES\n",
    "Por como está escrita la consigna, podría haber sido tanto el nombre como el número de mes lo solicitado. Por analogía con FECHA_DIA, uno esperaría que se pide el nombre, pero ambas valen."
   ]
  },
  {
   "cell_type": "code",
   "execution_count": 57,
   "id": "f96b7a89",
   "metadata": {},
   "outputs": [],
   "source": [
    "# Como número del mes\n",
    "assert (\n",
    "    df.DIA_TRANSPORTE.dt.month == df.DIA_TRANSPORTE.dt.strftime(\"%m\").astype(int)\n",
    ").all()\n",
    "# Como nombre del mes\n",
    "assert (\n",
    "    df.DIA_TRANSPORTE.dt.month_name(locale=\"es_ES\")\n",
    "    == df.DIA_TRANSPORTE.dt.strftime(\"%B\").str.capitalize()\n",
    ").all()\n",
    "\n",
    "df[\"FECHA_MES\"]= df.DIA_TRANSPORTE.dt.month_name(locale=\"es_ES\")"
   ]
  },
  {
   "cell_type": "markdown",
   "id": "47d0e763",
   "metadata": {},
   "source": [
    "## Punto 2\n",
    "### Crear el DataFrame datos_amba, el cual sólo debe tener datos de AMBA y debe excluir datos preliminares. Además, al ejecutar datos_amba.head() debe observarse el siguiente orden y formato de columnas:\n",
    "\n",
    "![](img/tp1-pt1-ej2.png)\n",
    "\n",
    "Imagino que de apurados, pero muchísima gente se olvidó de descartar los \"datos preliminares\" (`df.DATO_PRELIMINAR == \"SI\"`). Fuera de eso, el ejercicio era casi trivial.\n",
    "\n",
    "Como localizamos los nombres, se van a ver algo distintos a los del data farme de ejemplo, pero mejor 😉. No se descontaron puntos por estas discrepancias de estilo."
   ]
  },
  {
   "cell_type": "code",
   "execution_count": 58,
   "id": "8e8e75b1",
   "metadata": {},
   "outputs": [
    {
     "data": {
      "text/plain": [
       "AMBA  DATO_PRELIMINAR\n",
       "NO    NO                 322250\n",
       "SI    NO                 149973\n",
       "      SI                     41\n",
       "NO    SI                     27\n",
       "Name: count, dtype: int64"
      ]
     },
     "execution_count": 58,
     "metadata": {},
     "output_type": "execute_result"
    }
   ],
   "source": [
    "df[[\"AMBA\", \"DATO_PRELIMINAR\"]].value_counts(dropna=False)"
   ]
  },
  {
   "cell_type": "code",
   "execution_count": 59,
   "id": "b4653f9d",
   "metadata": {},
   "outputs": [
    {
     "data": {
      "text/html": [
       "<div>\n",
       "<style scoped>\n",
       "    .dataframe tbody tr th:only-of-type {\n",
       "        vertical-align: middle;\n",
       "    }\n",
       "\n",
       "    .dataframe tbody tr th {\n",
       "        vertical-align: top;\n",
       "    }\n",
       "\n",
       "    .dataframe thead th {\n",
       "        text-align: right;\n",
       "    }\n",
       "</style>\n",
       "<table border=\"1\" class=\"dataframe\">\n",
       "  <thead>\n",
       "    <tr style=\"text-align: right;\">\n",
       "      <th></th>\n",
       "      <th>fecha</th>\n",
       "      <th>fecha_dia</th>\n",
       "      <th>fecha_mes</th>\n",
       "      <th>fecha_ordinal</th>\n",
       "      <th>jurisdiccion</th>\n",
       "      <th>linea</th>\n",
       "      <th>pasajeros</th>\n",
       "      <th>tipo_transporte</th>\n",
       "    </tr>\n",
       "  </thead>\n",
       "  <tbody>\n",
       "    <tr>\n",
       "      <th>0</th>\n",
       "      <td>2023-01-01</td>\n",
       "      <td>domingo</td>\n",
       "      <td>Enero</td>\n",
       "      <td>1</td>\n",
       "      <td>MUNICIPAL</td>\n",
       "      <td>1</td>\n",
       "      <td>61</td>\n",
       "      <td>COLECTIVO</td>\n",
       "    </tr>\n",
       "    <tr>\n",
       "      <th>1</th>\n",
       "      <td>2023-01-01</td>\n",
       "      <td>domingo</td>\n",
       "      <td>Enero</td>\n",
       "      <td>1</td>\n",
       "      <td>MUNICIPAL</td>\n",
       "      <td>2B</td>\n",
       "      <td>11</td>\n",
       "      <td>COLECTIVO</td>\n",
       "    </tr>\n",
       "    <tr>\n",
       "      <th>3</th>\n",
       "      <td>2023-01-01</td>\n",
       "      <td>domingo</td>\n",
       "      <td>Enero</td>\n",
       "      <td>1</td>\n",
       "      <td>PROVINCIAL</td>\n",
       "      <td>BS_AS_LINEA_326</td>\n",
       "      <td>438</td>\n",
       "      <td>COLECTIVO</td>\n",
       "    </tr>\n",
       "    <tr>\n",
       "      <th>5</th>\n",
       "      <td>2023-01-01</td>\n",
       "      <td>domingo</td>\n",
       "      <td>Enero</td>\n",
       "      <td>1</td>\n",
       "      <td>MUNICIPAL</td>\n",
       "      <td>BS_AS_LINEA_514</td>\n",
       "      <td>3067</td>\n",
       "      <td>COLECTIVO</td>\n",
       "    </tr>\n",
       "    <tr>\n",
       "      <th>6</th>\n",
       "      <td>2023-01-01</td>\n",
       "      <td>domingo</td>\n",
       "      <td>Enero</td>\n",
       "      <td>1</td>\n",
       "      <td>MUNICIPAL</td>\n",
       "      <td>BS_AS_LINEA_522</td>\n",
       "      <td>332</td>\n",
       "      <td>COLECTIVO</td>\n",
       "    </tr>\n",
       "  </tbody>\n",
       "</table>\n",
       "</div>"
      ],
      "text/plain": [
       "       fecha fecha_dia fecha_mes  fecha_ordinal jurisdiccion            linea  \\\n",
       "0 2023-01-01   domingo     Enero              1    MUNICIPAL                1   \n",
       "1 2023-01-01   domingo     Enero              1    MUNICIPAL               2B   \n",
       "3 2023-01-01   domingo     Enero              1   PROVINCIAL  BS_AS_LINEA_326   \n",
       "5 2023-01-01   domingo     Enero              1    MUNICIPAL  BS_AS_LINEA_514   \n",
       "6 2023-01-01   domingo     Enero              1    MUNICIPAL  BS_AS_LINEA_522   \n",
       "\n",
       "   pasajeros tipo_transporte  \n",
       "0         61       COLECTIVO  \n",
       "1         11       COLECTIVO  \n",
       "3        438       COLECTIVO  \n",
       "5       3067       COLECTIVO  \n",
       "6        332       COLECTIVO  "
      ]
     },
     "execution_count": 59,
     "metadata": {},
     "output_type": "execute_result"
    }
   ],
   "source": [
    "datos_amba = df[(df.AMBA == \"SI\") & (df.DATO_PRELIMINAR == \"NO\")]\n",
    "datos_amba = datos_amba.rename(\n",
    "    columns={\"DIA_TRANSPORTE\": \"FECHA\", \"CANTIDAD\": \"PASAJEROS\"}\n",
    ").rename(columns=str.lower)\n",
    "cols = [\n",
    "    \"fecha\",\n",
    "    \"fecha_dia\",\n",
    "    \"fecha_mes\",\n",
    "    \"fecha_ordinal\",\n",
    "    \"jurisdiccion\",\n",
    "    \"linea\",\n",
    "    \"pasajeros\",\n",
    "    \"tipo_transporte\",\n",
    "]\n",
    "datos_amba = datos_amba[cols]\n",
    "datos_amba.head()"
   ]
  },
  {
   "cell_type": "markdown",
   "id": "6e2679c3",
   "metadata": {},
   "source": [
    "### Operaciones lógicas vectorizadas: [np.logical_and](https://numpy.org/doc/stable/reference/generated/numpy.logical_and.html) et ales\n",
    "Las operaciones lógicas binarias clásicas, `AND, OR, XOR (== OR excluyente)` y la \"unaria\" `NOT` tienen sus equivalentes en `numpy`, y sus versiones taquigráficas:\n",
    "- AND: `np.logical_and` o `&`\n",
    "- OR: `np.logical_or` o `|`\n",
    "- NOT: `np.logical_not` o `~`\n",
    "- XOR: `np.logical_xor`\n",
    "\n",
    "Luego, expresiones del tipo"
   ]
  },
  {
   "cell_type": "code",
   "execution_count": 60,
   "id": "f91d295a",
   "metadata": {},
   "outputs": [],
   "source": [
    "df2 = df[df.AMBA == \"SI\"]\n",
    "df2 = df2[df2.DATO_PRELIMINAR == \"NO\"]"
   ]
  },
  {
   "cell_type": "markdown",
   "id": "b3068990",
   "metadata": {},
   "source": [
    "Se escriben más concisamente como"
   ]
  },
  {
   "cell_type": "code",
   "execution_count": 61,
   "id": "15ac6aad",
   "metadata": {},
   "outputs": [],
   "source": [
    "df2 = df[(df.AMBA == \"SI\") & (df.DATO_PRELIMINAR == \"NO\")]"
   ]
  },
  {
   "cell_type": "markdown",
   "id": "a48f8016",
   "metadata": {},
   "source": [
    "Además, permiten expresar condiciones complejas como \"las filas cptes. al AMBA o cuyo tipo de transporte es COLECTIVO pero cuentan con menos de 500 pasajeros\". Nótese el uso adecuado de paréntesis, como en IPC del CBC.\n"
   ]
  },
  {
   "cell_type": "code",
   "execution_count": 62,
   "id": "3fd80d29",
   "metadata": {},
   "outputs": [],
   "source": [
    "df2 = df[\n",
    "    ((df.AMBA == \"SI\") | (df.TIPO_TRANSPORTE == \"COLECTIVO\")) & (df.CANTIDAD < 500)\n",
    "]"
   ]
  },
  {
   "cell_type": "markdown",
   "id": "9c1a3677",
   "metadata": {},
   "source": [
    "### Transformar SI/NO en booleano\n",
    "Para algo tan puntual, podemos dejar las strings de texto como tales, pero de trabajar mucho con lso datos, mejor pasarlos a su `dtype` natural, `boolean`:"
   ]
  },
  {
   "cell_type": "code",
   "execution_count": 63,
   "id": "c1c92136",
   "metadata": {},
   "outputs": [
    {
     "data": {
      "text/plain": [
       "AMBA   DATO_PRELIMINAR\n",
       "False  False              322250\n",
       "True   False              149973\n",
       "       True                   41\n",
       "False  True                   27\n",
       "Name: count, dtype: int64"
      ]
     },
     "execution_count": 63,
     "metadata": {},
     "output_type": "execute_result"
    }
   ],
   "source": [
    "bool_cols = [\"AMBA\", \"DATO_PRELIMINAR\"]\n",
    "df3 = df\n",
    "df3[bool_cols] = df3[bool_cols].eq(\"SI\")\n",
    "df3[bool_cols].value_counts()"
   ]
  },
  {
   "cell_type": "markdown",
   "id": "55dd7ced",
   "metadata": {},
   "source": [
    "Luego, la condición de base del ejercicio queda más elegantemente expresada como `df[df.AMBA & ~df.DATO_PRELIMINAR]`."
   ]
  },
  {
   "cell_type": "markdown",
   "id": "20946f2d",
   "metadata": {},
   "source": [
    "## Punto 3\n",
    "### Utilizando `datos_amba`, identificar: (a) la proporción de la cantidad total anual de pasajeros que le corresponde a cada medio de transporte"
   ]
  },
  {
   "cell_type": "code",
   "execution_count": 64,
   "id": "16400a00",
   "metadata": {},
   "outputs": [
    {
     "data": {
      "text/plain": [
       "tipo_transporte\n",
       "COLECTIVO    0.837645\n",
       "SUBTE        0.068097\n",
       "TREN         0.094258\n",
       "Name: pasajeros, dtype: float64"
      ]
     },
     "execution_count": 64,
     "metadata": {},
     "output_type": "execute_result"
    }
   ],
   "source": [
    "pasajeros_por_medio = datos_amba.groupby(\"tipo_transporte\").pasajeros.sum()\n",
    "pasajeros_por_medio / pasajeros_por_medio.sum()"
   ]
  },
  {
   "cell_type": "markdown",
   "id": "63b2f6ec",
   "metadata": {},
   "source": [
    "Con [`transform`](https://pandas.pydata.org/docs/reference/api/pandas.DataFrame.transform.html), prima de `aggregate`, podemos encadenar ambas operaciones."
   ]
  },
  {
   "cell_type": "code",
   "execution_count": 66,
   "id": "0b991c1f",
   "metadata": {},
   "outputs": [
    {
     "data": {
      "text/plain": [
       "tipo_transporte\n",
       "COLECTIVO    0.837645\n",
       "SUBTE        0.068097\n",
       "TREN         0.094258\n",
       "Name: pasajeros, dtype: float64"
      ]
     },
     "execution_count": 66,
     "metadata": {},
     "output_type": "execute_result"
    }
   ],
   "source": [
    "datos_amba.groupby(\"tipo_transporte\").pasajeros.sum().transform(lambda x: x / x.sum())"
   ]
  },
  {
   "cell_type": "markdown",
   "id": "a9e7c225",
   "metadata": {},
   "source": [
    "### (b) la tupla (mes, línea de subte) donde viajó la mayor cantidad de pasajeros"
   ]
  },
  {
   "cell_type": "code",
   "execution_count": 67,
   "id": "b8c12d83",
   "metadata": {},
   "outputs": [
    {
     "data": {
      "text/plain": [
       "('Agosto', 'LINEA_B')"
      ]
     },
     "execution_count": 67,
     "metadata": {},
     "output_type": "execute_result"
    }
   ],
   "source": [
    "datos_amba[datos_amba.tipo_transporte == \"SUBTE\"].groupby(\n",
    "    [\"fecha_mes\", \"linea\"]\n",
    ").pasajeros.sum().idxmax()"
   ]
  },
  {
   "cell_type": "markdown",
   "id": "fc9272e8",
   "metadata": {},
   "source": [
    "Recuerden que si agrupan por varios valores a la vez, el `MultiIndex` resultante es una tupla, así que se puede hacer:"
   ]
  },
  {
   "cell_type": "code",
   "execution_count": 75,
   "id": "db536676",
   "metadata": {},
   "outputs": [
    {
     "data": {
      "text/plain": [
       "('Agosto', 'LINEA_B')"
      ]
     },
     "execution_count": 75,
     "metadata": {},
     "output_type": "execute_result"
    }
   ],
   "source": [
    "datos_amba.query(\"tipo_transporte == 'SUBTE'\").groupby(\n",
    "    [\"fecha_mes\", \"linea\"]\n",
    ").pasajeros.sum().sort_values(ascending=False).index[0]"
   ]
  },
  {
   "cell_type": "markdown",
   "id": "c35e447d",
   "metadata": {},
   "source": [
    "Un error muy común fue devolver los valores de `(mes, línea)` correspondientes al registro con más pasajeros, una lectura detenida del ejercicio no avala dicha interpretación."
   ]
  },
  {
   "cell_type": "markdown",
   "id": "c9b0ae94",
   "metadata": {},
   "source": [
    "### (c) el día hábil con menor desvío estándar en cantidad de pasajeros\n",
    "Esta pregunta resultó algo ambigua, pues no era del todo claro cuál era la unidad de análisis. Una interpretación estricta, agruparía los datos al nivel de \"día\" (`FECHA`) y sumaría los pasajeros de todos los tipos y líneas de transporte para cada día. Sobre esos datos, se quedaría con \"los días hábiles\", los agruparía por nombre de día, de cada grupo tomaría el desvió, y se quedaría con el nombre del día hábil de menor variación.\n",
    "\n",
    "Esta operación se puede realizar encadenando operaciones, pero implica una cadena de \"agrupado - agregación - reagrupado - reagregación\" que puede confundir. Mejor, en partes:"
   ]
  },
  {
   "cell_type": "code",
   "execution_count": 99,
   "id": "10cf251a",
   "metadata": {},
   "outputs": [
    {
     "data": {
      "text/html": [
       "<div>\n",
       "<style scoped>\n",
       "    .dataframe tbody tr th:only-of-type {\n",
       "        vertical-align: middle;\n",
       "    }\n",
       "\n",
       "    .dataframe tbody tr th {\n",
       "        vertical-align: top;\n",
       "    }\n",
       "\n",
       "    .dataframe thead th {\n",
       "        text-align: right;\n",
       "    }\n",
       "</style>\n",
       "<table border=\"1\" class=\"dataframe\">\n",
       "  <thead>\n",
       "    <tr style=\"text-align: right;\">\n",
       "      <th></th>\n",
       "      <th>fecha</th>\n",
       "      <th>pasajeros</th>\n",
       "    </tr>\n",
       "  </thead>\n",
       "  <tbody>\n",
       "    <tr>\n",
       "      <th>220</th>\n",
       "      <td>2023-11-06</td>\n",
       "      <td>12899182</td>\n",
       "    </tr>\n",
       "    <tr>\n",
       "      <th>75</th>\n",
       "      <td>2023-04-17</td>\n",
       "      <td>12332431</td>\n",
       "    </tr>\n",
       "    <tr>\n",
       "      <th>150</th>\n",
       "      <td>2023-07-31</td>\n",
       "      <td>11620117</td>\n",
       "    </tr>\n",
       "    <tr>\n",
       "      <th>50</th>\n",
       "      <td>2023-03-13</td>\n",
       "      <td>11150866</td>\n",
       "    </tr>\n",
       "    <tr>\n",
       "      <th>192</th>\n",
       "      <td>2023-09-27</td>\n",
       "      <td>12988479</td>\n",
       "    </tr>\n",
       "  </tbody>\n",
       "</table>\n",
       "</div>"
      ],
      "text/plain": [
       "         fecha  pasajeros\n",
       "220 2023-11-06   12899182\n",
       "75  2023-04-17   12332431\n",
       "150 2023-07-31   11620117\n",
       "50  2023-03-13   11150866\n",
       "192 2023-09-27   12988479"
      ]
     },
     "execution_count": 99,
     "metadata": {},
     "output_type": "execute_result"
    }
   ],
   "source": [
    "datos_amba_semana = datos_amba[~datos_amba.fecha_dia.isin([\"sábado\", \"domingo\"])]\n",
    "pasajeros_por_dia = datos_amba_semana.groupby(\"fecha\").pasajeros.sum().reset_index()\n",
    "pasajeros_por_dia.sample(5)"
   ]
  },
  {
   "cell_type": "code",
   "execution_count": 100,
   "id": "0ceb39df",
   "metadata": {},
   "outputs": [
    {
     "data": {
      "text/plain": [
       "(fecha\n",
       " miércoles    1.274548e+06\n",
       " jueves       1.861006e+06\n",
       " martes       1.951223e+06\n",
       " viernes      2.625816e+06\n",
       " lunes        2.952116e+06\n",
       " Name: pasajeros, dtype: float64,\n",
       " 'miércoles')"
      ]
     },
     "execution_count": 100,
     "metadata": {},
     "output_type": "execute_result"
    }
   ],
   "source": [
    "desvio_por_dia = pasajeros_por_dia.groupby(\n",
    "    pasajeros_por_dia.fecha.dt.strftime(\"%A\")\n",
    ").pasajeros.std()\n",
    "desvio_por_dia.sort_values(), desvio_por_dia.idxmin()"
   ]
  },
  {
   "cell_type": "markdown",
   "id": "d70fab29",
   "metadata": {},
   "source": [
    "Como agrupar por `fecha` y `(fecha, fecha_dia)` dan la misma cantidad de grupos únicos (cada `fecha` tiene exactamente un valor de `fecha_dia` asociado), y **se puede agrupar un dataframe con los nombres de los niveles del índice**, las operaciones previas se pueden encadenar así:"
   ]
  },
  {
   "cell_type": "code",
   "execution_count": 108,
   "id": "fdcf712b",
   "metadata": {},
   "outputs": [
    {
     "data": {
      "text/plain": [
       "fecha_dia\n",
       "jueves       1861006.25\n",
       "lunes        2952115.90\n",
       "martes       1951222.63\n",
       "miércoles    1274548.09\n",
       "viernes      2625815.94\n",
       "Name: pasajeros, dtype: float64"
      ]
     },
     "execution_count": 108,
     "metadata": {},
     "output_type": "execute_result"
    }
   ],
   "source": [
    "datos_amba_semana.groupby([\"fecha_dia\", \"fecha\"]).pasajeros.sum().groupby(\n",
    "    \"fecha_dia\"\n",
    ").std().round(2)"
   ]
  },
  {
   "cell_type": "markdown",
   "id": "1d45d081",
   "metadata": {},
   "source": [
    "La enorme mayoría - yo incluido en la primera resolución apurado del TP - simplemente tomaron como unidad de análisis cada fila, agrupándolas por `fecha_dia`. El problema de este enfoque, es que implica mezclar peras con manzanas: una línea de tren no lleva la cantidad de gente de una de colectivos, por ejemplo. Aquí, dos resoluciones que también dimos por válidas: \n",
    "1. tomando cada fila (`fecha, tipo_transporte, linea`) como unidad de análisis, y calculando el desvío estándar global, \n",
    "2. y una con la misma unidad, pero tomando el desvío estándar por tipo_transporte:"
   ]
  },
  {
   "cell_type": "code",
   "execution_count": 111,
   "id": "8cff492e",
   "metadata": {},
   "outputs": [
    {
     "data": {
      "text/plain": [
       "(fecha_dia\n",
       " jueves       35968.32\n",
       " lunes        33577.46\n",
       " martes       35833.74\n",
       " miércoles    35980.85\n",
       " viernes      35059.69\n",
       " Name: pasajeros, dtype: float64,\n",
       " 'lunes')"
      ]
     },
     "execution_count": 111,
     "metadata": {},
     "output_type": "execute_result"
    }
   ],
   "source": [
    "desvios = datos_amba_semana.groupby(\"fecha_dia\").pasajeros.agg(\"std\")\n",
    "desvios.round(2), desvios.idxmin()"
   ]
  },
  {
   "cell_type": "code",
   "execution_count": 115,
   "id": "3b4771fd",
   "metadata": {},
   "outputs": [
    {
     "data": {
      "text/html": [
       "<div>\n",
       "<style scoped>\n",
       "    .dataframe tbody tr th:only-of-type {\n",
       "        vertical-align: middle;\n",
       "    }\n",
       "\n",
       "    .dataframe tbody tr th {\n",
       "        vertical-align: top;\n",
       "    }\n",
       "\n",
       "    .dataframe thead tr th {\n",
       "        text-align: left;\n",
       "    }\n",
       "\n",
       "    .dataframe thead tr:last-of-type th {\n",
       "        text-align: right;\n",
       "    }\n",
       "</style>\n",
       "<table border=\"1\" class=\"dataframe\">\n",
       "  <thead>\n",
       "    <tr>\n",
       "      <th></th>\n",
       "      <th colspan=\"5\" halign=\"left\">pasajeros</th>\n",
       "    </tr>\n",
       "    <tr>\n",
       "      <th>fecha_dia</th>\n",
       "      <th>jueves</th>\n",
       "      <th>lunes</th>\n",
       "      <th>martes</th>\n",
       "      <th>miércoles</th>\n",
       "      <th>viernes</th>\n",
       "    </tr>\n",
       "    <tr>\n",
       "      <th>tipo_transporte</th>\n",
       "      <th></th>\n",
       "      <th></th>\n",
       "      <th></th>\n",
       "      <th></th>\n",
       "      <th></th>\n",
       "    </tr>\n",
       "  </thead>\n",
       "  <tbody>\n",
       "    <tr>\n",
       "      <th>COLECTIVO</th>\n",
       "      <td>1572568.07</td>\n",
       "      <td>2446883.68</td>\n",
       "      <td>1624582.67</td>\n",
       "      <td>1110180.13</td>\n",
       "      <td>2261089.79</td>\n",
       "    </tr>\n",
       "    <tr>\n",
       "      <th>SUBTE</th>\n",
       "      <td>149644.40</td>\n",
       "      <td>217443.15</td>\n",
       "      <td>155885.99</td>\n",
       "      <td>100198.91</td>\n",
       "      <td>171534.97</td>\n",
       "    </tr>\n",
       "    <tr>\n",
       "      <th>TREN</th>\n",
       "      <td>178726.31</td>\n",
       "      <td>311527.10</td>\n",
       "      <td>197319.73</td>\n",
       "      <td>109293.41</td>\n",
       "      <td>251264.65</td>\n",
       "    </tr>\n",
       "  </tbody>\n",
       "</table>\n",
       "</div>"
      ],
      "text/plain": [
       "                  pasajeros                                                \n",
       "fecha_dia            jueves       lunes      martes   miércoles     viernes\n",
       "tipo_transporte                                                            \n",
       "COLECTIVO        1572568.07  2446883.68  1624582.67  1110180.13  2261089.79\n",
       "SUBTE             149644.40   217443.15   155885.99   100198.91   171534.97\n",
       "TREN              178726.31   311527.10   197319.73   109293.41   251264.65"
      ]
     },
     "execution_count": 115,
     "metadata": {},
     "output_type": "execute_result"
    }
   ],
   "source": [
    "desvios_por_tipo = datos_amba_semana.groupby(\n",
    "    [\"tipo_transporte\", \"fecha_dia\", \"fecha\"]\n",
    ").pasajeros.sum().groupby([\"tipo_transporte\", \"fecha_dia\"]).agg(\n",
    "    \"std\"\n",
    ").reset_index().pivot(\n",
    "    index=\"tipo_transporte\", columns=\"fecha_dia\"\n",
    ")\n",
    "desvios_por_tipo.round(2)"
   ]
  },
  {
   "cell_type": "code",
   "execution_count": 118,
   "id": "b794af0e",
   "metadata": {},
   "outputs": [
    {
     "data": {
      "text/plain": [
       "tipo_transporte\n",
       "COLECTIVO    (pasajeros, miércoles)\n",
       "SUBTE        (pasajeros, miércoles)\n",
       "TREN         (pasajeros, miércoles)\n",
       "dtype: object"
      ]
     },
     "execution_count": 118,
     "metadata": {},
     "output_type": "execute_result"
    }
   ],
   "source": [
    "desvios_por_tipo.idxmin(axis=1)"
   ]
  },
  {
   "cell_type": "markdown",
   "id": "c1871d84",
   "metadata": {},
   "source": [
    "Noten que tanto en (1) como (2), los desvíos son mucho más parecidos entre días hábiles. Intuitivamente, pareciera más coherente la resolución original: de entre los días hábiles, el miércoles es el feriado menos común, por ejemplo, así que tiene una cantidad más constante de pasajeros."
   ]
  },
  {
   "cell_type": "markdown",
   "id": "73629bba",
   "metadata": {},
   "source": [
    "## Comentarios Generales\n",
    "A continuación, unas cuantas correcciones y sugerencias sin nombre, que aplican a una buena parte de los trabajos presentados. Revísenlas, aunque no hayan cometido ninguna, de seguro hay algo para aprender. Los pedazos de código están adaptados de lo visto en los trabajos."
   ]
  },
  {
   "cell_type": "markdown",
   "id": "a5702382",
   "metadata": {},
   "source": [
    "#### 🟡 Es redundante descartar columnas si más adelante específicamente seleccionan el complemento\n",
    "Aquí debajo, `drop` es en vano; toda columna que no figure en `nuevo_orden`, que se le pasan a `reindex` en la línea siguiente, será descartada:\n",
    "```python\n",
    "datos_amba.drop(columns=['dato_preliminar','nombre_empresa','municipio','amba','provincia'], inplace=True)\n",
    "nuevo_orden = ['fecha','fecha_dia','fecha_mes','fecha_ordinal','jurisdiccion','linea','pasajeros','tipo_transporte']\n",
    "datos_amba = datos_amba.reindex(columns=nuevo_orden)\n",
    "```\n",
    "\n",
    "#### 🟡 No descarten información 'para complacer al docente'\n",
    "Entiendo que si el ejemplo dice `\"Sun\"`, y uno encontró un código que devuelve `\"Sunday\"`, la deferencia a la autoridad quiera hacer encajar el código con el ejemplo a toda costa, pero operaciones así son \"de pura pinta\"\n",
    "```\n",
    "datos_amba['fecha_dia'] = datos_amba['fecha_dia'].str.slice(0, 3)\n",
    "```\n",
    "En cualquier caso, si llegaron a representar `\"Sunday\"` con `df.dia_transporte.dt.strftime(\"%A\")` (nombre completo del día), también pueden leer la línea inmediata superior de la documentación y usar `\"%a\"` (3 primeras letras del nombre del día), si quieren hacerlo al dedillo.\n"
   ]
  },
  {
   "cell_type": "markdown",
   "id": "4f4c632f",
   "metadata": {},
   "source": [
    "#### 🔴 Usen groupby para replicar operaciones con distintos grupos\n",
    "\n",
    "```python\n",
    "desvios = []\n",
    "dias_habiles = datos_amba_habiles.fecha_dia.unique()\n",
    "for dia_habil in dias_habiles:\n",
    "    desvio_estandar = datos_amba_habiles[datos_amba_habiles['fecha_dia']==dia_habil]['pasajeros'].std().round(1)\n",
    "    desvio_dia = (dia_habil, desvio_estandar)\n",
    "    desvios.append(desvio_dia)\n",
    "```\n",
    "\n",
    "Literalmente, `pd.DataFrame.groupby(key)`, parte los datos de `DataFrame` según los valores únicos de la columna `key` y devuelve un iterador sobre los pares `clave, df`. Vean:"
   ]
  },
  {
   "cell_type": "code",
   "execution_count": 125,
   "id": "f7de550b",
   "metadata": {},
   "outputs": [
    {
     "name": "stdout",
     "output_type": "stream",
     "text": [
      "domingo <class 'pandas.core.frame.DataFrame'> (21350, 8)\n",
      "jueves <class 'pandas.core.frame.DataFrame'> (21476, 8)\n",
      "lunes <class 'pandas.core.frame.DataFrame'> (21415, 8)\n",
      "martes <class 'pandas.core.frame.DataFrame'> (21445, 8)\n",
      "miércoles <class 'pandas.core.frame.DataFrame'> (21468, 8)\n",
      "sábado <class 'pandas.core.frame.DataFrame'> (21370, 8)\n",
      "viernes <class 'pandas.core.frame.DataFrame'> (21449, 8)\n"
     ]
    }
   ],
   "source": [
    "for dia, data in datos_amba.groupby(\"fecha_dia\"):\n",
    "    print(dia, type(data), data.shape)"
   ]
  },
  {
   "cell_type": "markdown",
   "id": "c88564ed",
   "metadata": {},
   "source": [
    "Los data frames en que queda partido `datos_amba` tienen la misma cantidad de columnas, y tantas filas como ocurrencias únicas tenga la clave de partición. Por sobre todo, cada vez que intentan implementar a mano una función básica de la librería, corren riesgos de implementarla mal. Lean la documentación, y resuelvan, por ejemplo, con\n",
    "\n",
    "```python\n",
    "datos_amba_habiles.groupby(\"fecha_dia\").pasajeros.std()\n",
    "```\n",
    "\n",
    "¿No es mucho más legible?"
   ]
  },
  {
   "cell_type": "markdown",
   "id": "199ff71e",
   "metadata": {},
   "source": [
    "#### 🔴 Eviten \"inspeccionar a ojo los datos\"\n",
    "Si se pide un mínimo, o el valor que minimiza una variable, usen `min` e `idxmin` respectiavmente. Aunque con pocas categorías (como 5 días hábiles) es factible hacerlo a mano, con más categorías no es plausible, y sí es propenso a errores."
   ]
  },
  {
   "cell_type": "markdown",
   "id": "e0d33b04",
   "metadata": {},
   "source": [
    "#### 🟡 Los títulos en Markdown lelvan espacio entre los marcadores de nivel (#) y el texto\n",
    "El notebook que entregan es un documento oficial, preséntenlo como presentarían un TP escrito. De mínima, asegúrense que los títulos se vean como tales. La [guía de GitHub](https://docs.github.com/es/get-started/writing-on-github/getting-started-with-writing-and-formatting-on-github/basic-writing-and-formatting-syntax), que está en espannol también, es una referencia decente para empezar.\n"
   ]
  },
  {
   "cell_type": "markdown",
   "id": "0dcc7b7f",
   "metadata": {},
   "source": [
    "#### 🔴 Nunca entreguen código que no corre\n",
    "Hubo quienes llamaban `df = pd.read_csv(\"datos.csv\")` sin importar `pandas` primero, o mencionaban un archivo extra que luego no adjuntaban. Evitar a toda costa: un notebook tiene que poder correr \"de pe a pa\", con a lo sumo un cambio de ruta para que el docente pueda apuntar la lectura de archivos a sus directorios locales."
   ]
  },
  {
   "cell_type": "markdown",
   "id": "c9901d20",
   "metadata": {},
   "source": [
    "#### 🟡 Salvo que usen `inplace=True`, `drop` _no elimina columnas más que en el retorno de la función.\n",
    "\n",
    "```python\n",
    "# Esto no hace absolutamente nada sobre datos_amba\n",
    "datos_amba.drop(['AMBA','DATO_PRELIMINAR','NOMBRE_EMPRESA'], axis=1)\n",
    "```\n",
    "\n",
    "#### 🟡 Para copiar un df, hay que usar `copy()` explícitamente:\n",
    "Si no, sólo obtiene una nueva referencia al mismo objeto\n",
    "```python\n",
    "# Así no:\n",
    "datos_amba_copia = datos_amba\n",
    "# Así sí:\n",
    "datos_amba_copia = datos_amba.copy()\n",
    "```\n",
    "\n",
    "#### 🟡 Para mostrar datos, `pd.Series.to_dict` solo empeora la presentacion sin aportar nada por sobre la representación tradicional:"
   ]
  },
  {
   "cell_type": "code",
   "execution_count": 145,
   "id": "ca56cb86",
   "metadata": {},
   "outputs": [
    {
     "data": {
      "text/plain": [
       "TIPO_TRANSPORTE\n",
       "COLECTIVO    3837936036\n",
       "LANCHAS          205543\n",
       "SUBTE         239621028\n",
       "TREN          331984197\n",
       "Name: CANTIDAD, dtype: int64"
      ]
     },
     "metadata": {},
     "output_type": "display_data"
    },
    {
     "data": {
      "text/plain": [
       "{'COLECTIVO': 3837936036,\n",
       " 'LANCHAS': 205543,\n",
       " 'SUBTE': 239621028,\n",
       " 'TREN': 331984197}"
      ]
     },
     "metadata": {},
     "output_type": "display_data"
    },
    {
     "data": {
      "text/plain": [
       "(None, None)"
      ]
     },
     "execution_count": 145,
     "metadata": {},
     "output_type": "execute_result"
    }
   ],
   "source": [
    "s = df.groupby(\"TIPO_TRANSPORTE\").CANTIDAD.sum()\n",
    "display(s), display(s.to_dict())"
   ]
  },
  {
   "cell_type": "markdown",
   "id": "3c3e0d95",
   "metadata": {},
   "source": [
    "#### 🟡 `pd.DataFrame.rename` acepta un diccionario con tantas entradas como uno desee para renombrar un eje\n",
    "\n",
    "```python\n",
    "\n",
    "# Redundante\n",
    "datos_amba = datos_amba.rename(columns={\"DIA_TRANSPORTE\": \"fecha\"})\n",
    "datos_amba = datos_amba.rename(columns={\"CANTIDAD\": \"pasajeros\"})\n",
    "\n",
    "# Mejor\n",
    "datos_amba = datos_amba.rename(\n",
    "    columns={\"DIA_TRANSPORTE\": \"fecha\", \"CANTIDAD\": \"pasajeros\"}\n",
    ")\n",
    "```"
   ]
  },
  {
   "cell_type": "markdown",
   "id": "0ca124f3",
   "metadata": {},
   "source": [
    "####  🔴 Sobreescribir nombres de funciones estándares es una mala idea en general\n",
    "Los mensajes de error son crípticos más adelante, y no es fácil de enmendar:"
   ]
  },
  {
   "cell_type": "code",
   "execution_count": 146,
   "id": "96818a3d",
   "metadata": {},
   "outputs": [
    {
     "data": {
      "text/plain": [
       "5"
      ]
     },
     "execution_count": 146,
     "metadata": {},
     "output_type": "execute_result"
    }
   ],
   "source": [
    "max([2, 5, 4])"
   ]
  },
  {
   "cell_type": "code",
   "execution_count": 147,
   "id": "9f20dae5",
   "metadata": {},
   "outputs": [
    {
     "name": "stdout",
     "output_type": "stream",
     "text": [
      "542616\n"
     ]
    }
   ],
   "source": [
    "max = datos_amba.pasajeros.max()\n",
    "print(max)"
   ]
  },
  {
   "cell_type": "code",
   "execution_count": 148,
   "id": "37d16361",
   "metadata": {},
   "outputs": [
    {
     "ename": "TypeError",
     "evalue": "'numpy.int64' object is not callable",
     "output_type": "error",
     "traceback": [
      "\u001b[0;31m---------------------------------------------------------------------------\u001b[0m",
      "\u001b[0;31mTypeError\u001b[0m                                 Traceback (most recent call last)",
      "Cell \u001b[0;32mIn[148], line 1\u001b[0m\n\u001b[0;32m----> 1\u001b[0m \u001b[38;5;28;43mmax\u001b[39;49m\u001b[43m(\u001b[49m\u001b[43m[\u001b[49m\u001b[38;5;241;43m2\u001b[39;49m\u001b[43m,\u001b[49m\u001b[43m \u001b[49m\u001b[38;5;241;43m5\u001b[39;49m\u001b[43m,\u001b[49m\u001b[43m \u001b[49m\u001b[38;5;241;43m4\u001b[39;49m\u001b[43m]\u001b[49m\u001b[43m)\u001b[49m\n",
      "\u001b[0;31mTypeError\u001b[0m: 'numpy.int64' object is not callable"
     ]
    }
   ],
   "source": [
    "max([2, 5, 4])"
   ]
  },
  {
   "cell_type": "markdown",
   "id": "d4c92d98",
   "metadata": {},
   "source": [
    "## Sobreingeniería\n",
    "Más que errores hechos y derechos, lo que abunda en los TPs es la sobreingeniería (\"overengineering\"): máquinas de [Rube Goldberg](https://www.youtube.com/watch?v=qybUFnY7Y8w) enormemente complicadas cuando existe un enfoque más directo. Aquí el problema es doble:\n",
    "- se agranda la superficie de riesgo para cometer errores, y además\n",
    "- se gasta el \"presupuesto cognitivo\" del lector en trivialidades en lugar de reservarlo para casos realmente necesarios.\n",
    "\n",
    "Cuando programen, no escriban \"para la computadora\", escriban para el humano que lo va a leer (que típicamente, serán ustedes mismos más tarde), y valoren su tiempo y esfuerzo como el propio. A continuación, algunos ejemplos al azar,\n"
   ]
  },
  {
   "cell_type": "markdown",
   "id": "7bb1145a",
   "metadata": {},
   "source": [
    "#### No escriben funciones de único uso, ni asignen a variables datos que no van a reutilizar\n",
    "\n",
    "```python\n",
    "# Esta función no se uso nunca más\n",
    "def descartaNegativos(df):\n",
    "    df.loc[df['CANTIDAD'] >= 0]  # Por qué lo llaman en el vacío?\n",
    "    df = df.loc[df['CANTIDAD'] >= 0]\n",
    "    return df\n",
    "\n",
    "sube = descartaNegativos(sube)\n",
    "# Mejor,\n",
    "sube = sube[sube.CANTIDAD >= 0]\n",
    "\n",
    "# Lo mismo aplica a las funciones anónimas o \"lambdas\"\n",
    "datos_amba.rename(columns=(lambda x: x.lower()))\n",
    "# Mejor,\n",
    "datos_amba.rename(columns=str.lower)\n",
    "```\n",
    "\n",
    "Tampoco vale la pena asignar algo que se va a mostrar inmediatamente después:\n",
    "```python\n",
    "# Así no:\n",
    "dtypes = df.dtypes\n",
    "dtypes\n",
    "# Así sí:\n",
    "df.dtypes\n",
    "\n",
    "# Así no:\n",
    "amba = sube['AMBA'] == 'SI'\n",
    "datos_amba = sube[amba]\n",
    "# Así sí:\n",
    "datos_amba = sube[sube.AMBA == 'SI']\n",
    "\n",
    "# Así no:\n",
    "FECHA_DIA= datos['DIA_TRANSPORTE'].apply(lambda x: x.strftime('%a'))\n",
    "datos['FECHA_DIA']=FECHA_DIA\n",
    "# Así sí:\n",
    "datos['FECHA_DIA']=datos['DIA_TRANSPORTE'].apply(lambda x: x.strftime('%a'))\n",
    "```\n",
    "\n",
    "\n"
   ]
  },
  {
   "cell_type": "markdown",
   "id": "18a7cd89",
   "metadata": {},
   "source": [
    "#### Ojo con dar vueltas en círculos para llegar adonde empezaron\n",
    "```python\n",
    "# Así no:\n",
    "FECHA_DIA = df[\"DIA_TRANSPORTE\"]\n",
    "df[\"FECHA_DIA\"] = FECHA_DIA\n",
    "df[\"FECHA_DIA\"] = pd.to_datetime(df[\"FECHA_DIA\"])\n",
    "df[\"FECHA_DIA\"] = df[\"FECHA_DIA\"].dt.strftime(\"%A\")\n",
    "# Así sí:\n",
    "df[\"FECHA_DIA\"] = df[\"DIA_TRANSPORTE\"].dt.strftime(\"%A\")\n",
    "```"
   ]
  },
  {
   "cell_type": "markdown",
   "id": "6b7d7a05",
   "metadata": {},
   "source": [
    "#### `pd.Series.map` es su amigo para renombrar celdas\n",
    "La operación de mapear laos valores de una serie a un diccionario (como un `rename` pero para los _valores_ de un DataFrame, no sus indices/columnas), se llama `map`. Si no, la función para tomar el valor cpte. a una clave de un `dict` diccionario (o `None` por defecto), es `dict.get`:\n",
    "\n",
    "```python\n",
    "NombreDiasIngles = df[\"DIA_TRANSPORTE\"].apply(lambda x: x.strftime(\"%A\"))\n",
    "diccionario = {\n",
    "    \"Monday\": \"Lunes\",\n",
    "    \"Tuesday\": \"Martes\",\n",
    "    \"Wednesday\": \"Miércoles\",\n",
    "    \"Thursday\": \"Jueves\",\n",
    "    \"Friday\": \"Viernes\",\n",
    "    \"Saturday\": \"Sábado\",\n",
    "    \"Sunday\": \"Domingo\",\n",
    "}\n",
    "\n",
    "# Innecesaria función auxiliar:\n",
    "def diccionario_dias_ingles_a_espanol(n):\n",
    "    return diccionario[n]\n",
    "df[\"FECHA_DIA\"] = NombreDiasIngles.apply(diccionario_dias_ingles_a_espanol)\n",
    "# Sin la función:\n",
    "df[\"FECHA_DIA\"] = NombreDiasIngles.apply(diccionario.get)\n",
    "# Aún mejor\n",
    "df[\"FECHA_DIA\"] = NombreDiasIngles.map(diccionario)\n",
    "```"
   ]
  },
  {
   "cell_type": "markdown",
   "id": "a5b9ddcc",
   "metadata": {},
   "source": [
    "### DRY: Don't Repeat Yourself (\"No Te Repitas\")\n",
    "[Wikipedia](https://es.wikipedia.org/wiki/No_te_repitas) lo explica bien, pero tl; dr: si tienen que hacer la misma operación dos veces, la abstraen a una función, así en el futuro, de tener que modificarla, la modifican en un solo lugar. Este principio, obviamente, cede en importancia al más fundamental: si ya está implementada, no la reimplementen.\n",
    "\n",
    "Una extensión: si el código es obvio de leer, no hace falta comentarlo, pues sería repetir lo uqe ya dice el código. Limítense a comentar lo que no resulta obvio de leer el código, y ejecuten la moderación aún en ello.\n",
    "\n",
    "Vean esto:\n",
    "```python\n",
    "# Filtramos en el dataset en cada dia hábil y calculamos sus desvios estandar\n",
    "datos_amba_lunes_std = datos_amba[datos_amba[\"fecha_dia\"] == \"Lunes\"][\n",
    "    \"pasajeros\"\n",
    "].std()  # Lunes\n",
    "datos_amba_Martes_std = datos_amba[datos_amba[\"fecha_dia\"] == \"Martes\"][\n",
    "    \"pasajeros\"\n",
    "].std()  # Martes\n",
    "datos_amba_Miércoles_std = datos_amba[\n",
    "    datos_amba[\"fecha_dia\"] == \"Miércoles\"\n",
    "][\n",
    "    \"pasajeros\"\n",
    "].std()  # Miércoles\n",
    "datos_amba_Jueves_std = datos_amba[datos_amba[\"fecha_dia\"] == \"Jueves\"][\n",
    "    \"pasajeros\"\n",
    "].std()  # Jueves\n",
    "datos_amba_Viernes_std = datos_amba[datos_amba[\"fecha_dia\"] == \"Viernes\"][\n",
    "    \"pasajeros\"\n",
    "].std()  # Viernes\n",
    "\n",
    "# Armamos una tupla con los desvíos estándar calculados y elijimos el minimo valor\n",
    "datos_amba_tupla_d_v_dias_habiles = min(\n",
    "    datos_amba_lunes_std,\n",
    "    datos_amba_Martes_std,\n",
    "    datos_amba_Miércoles_std,\n",
    "    datos_amba_Jueves_std,\n",
    "    datos_amba_Viernes_std,\n",
    ")\n",
    "\n",
    "# Comprobamos a qué día hábil pertenece ese valor\n",
    "print(\"Desvio estandar minimo = \", datos_amba_tupla_d_v_dias_habiles)\n",
    "\n",
    "# Armamos un dataframe para verlo mejor\n",
    "\n",
    "datos_desvios_estandar = {\n",
    "    \"Día\": [\"Lunes\", \"Martes\", \"Miércoles\", \"Jueves\", \"Viernes\"],\n",
    "    \"Desvío Estándar\": [\n",
    "        datos_amba_lunes_std,\n",
    "        datos_amba_Martes_std,\n",
    "        datos_amba_Miércoles_std,\n",
    "        datos_amba_Jueves_std,\n",
    "        datos_amba_Viernes_std,\n",
    "    ],\n",
    "}\n",
    "df_desvios_estandar = pd.DataFrame(datos_desvios_estandar)\n",
    "\n",
    "print(df_desvios_estandar)\n",
    "```\n",
    "\n",
    "Y compárenlo con esta línea:\n",
    "```python\n",
    "datos_amba.query(\"fecha_dia not in ('sábado', 'domingo')\").groupby(\n",
    "    \"fecha_dia\"\n",
    ").pasajeros.std()\n",
    "```\n",
    "\n",
    "¿Qué les resulta más fácil de seguir?"
   ]
  },
  {
   "cell_type": "markdown",
   "id": "48d64554",
   "metadata": {},
   "source": [
    "### Codificación\n",
    "Si se encuentran con que la localización (AKA \"internacionalización\", o \"traducción al idioma local\") genera caracteres raros en letras con tildes o diéresis, como \"miÃ©rcoles\" en lugar de \"miércoles\", es porque están usando una codificación incorrecta en su sistema. "
   ]
  },
  {
   "cell_type": "code",
   "execution_count": 150,
   "id": "e85948f6",
   "metadata": {},
   "outputs": [
    {
     "data": {
      "text/plain": [
       "b'Mart\\xc3\\xadn Miguel de G\\xc3\\xbcemes'"
      ]
     },
     "metadata": {},
     "output_type": "display_data"
    }
   ],
   "source": [
    "s = \"Martín Miguel de Güemes\".encode(\"utf-8\")\n",
    "display(s)  # codificación en bytes, usando Unicode: los caracteres ascii son idénticos a su codificación, otros no."
   ]
  },
  {
   "cell_type": "code",
   "execution_count": 151,
   "id": "cec983f1",
   "metadata": {},
   "outputs": [
    {
     "data": {
      "text/plain": [
       "'Martín Miguel de Güemes'"
      ]
     },
     "metadata": {},
     "output_type": "display_data"
    }
   ],
   "source": [
    "display(s.decode(\"utf-8\"))  # decodificación en el mismo código\n"
   ]
  },
  {
   "cell_type": "code",
   "execution_count": 152,
   "id": "06b72c90",
   "metadata": {},
   "outputs": [
    {
     "data": {
      "text/plain": [
       "'MartÃ\\xadn Miguel de GÃ¼emes'"
      ]
     },
     "metadata": {},
     "output_type": "display_data"
    }
   ],
   "source": [
    "display(s.decode(\"latin-1\"))  # decodificación con un mapa de caracteres ligeramente diferente; noten qué caracteres fallan"
   ]
  },
  {
   "cell_type": "markdown",
   "id": "25feaf30",
   "metadata": {},
   "source": [
    "La codificación por defecto en Python 3 (y casi todo sistema moderno) es \"utf-8\" ([wikipedia](https://es.wikipedia.org/wiki/UTF-8)); por razones históricas Windows usa \"latin-1\" ([wikipedia](https://es.wikipedia.org/wiki/ISO/IEC_8859-1))."
   ]
  },
  {
   "cell_type": "markdown",
   "id": "1aed35af",
   "metadata": {},
   "source": [
    "## Bonus\n",
    "### Black, un \"linter\" automático\n",
    "Un \"linter\" (\"sacapelusa\", literalmente) es una herramienta que aplica ciertas reglas duras para formatear el código que ustedes escriban automágicamente. Todo este notebook, por ejemplo, está \"linteado\" con [Black](https://black.readthedocs.io/en/stable/), que es tan \"opinionado\" que no tiene ningún parámetro configurable por defecto. Algunos dirán: ¿por qué tendría que ceñirme tanto a especificaciones arbitrarias? A lo qu otros respondemos: ¿no es hermoso olvidarse de cómo tiene que lucir, y simplemente preocuparse de que corra?\n",
    "\n",
    "Black aplica minuciosamente unas cuantas reglas que la comunidad de _pythonistas_ ha ido consensuando a lo largo de los años, y está bien implementado en cualquier editor de texto moderno. Les recomiendo ampliamente que lo prueben."
   ]
  },
  {
   "cell_type": "markdown",
   "id": "dad0a05c",
   "metadata": {},
   "source": [
    "### La keyword `match`\n",
    "En `python 3.10` se introdujo una _keyword_ nueva, `match`, que viene a ser algo así como un `case` con esteroides. La propuesta está bien explicada en el [PEP 636](https://peps.python.org/pep-0636/) (Python Enhancement Proposal). Honestamente, no la conocía hasta que la vi en uno de los TPs. Recomiendo chusmearla para quienes tengan ganas de probar algo de python \"bien moderno\".\n",
    "\n",
    "En este caso, el mismo objetivo se podía lograr con un simple diccionario, o una serie de `if ... elif ... elif ... else`, pero dejo el código para que vean la idea:\n",
    "\n",
    "```python\n",
    "datos['FECHA_DIA'] = datos[\"DIA_TRANSPORTE\"].dt.weekday\n",
    "def diafecha(dato):\n",
    "    match dato:\n",
    "        case 6:\n",
    "            return 'Domingo'\n",
    "        case 0:\n",
    "            return 'Lunes'\n",
    "        case 1:\n",
    "            return 'Martes'\n",
    "        case 2:\n",
    "            return 'Miercoles'\n",
    "        case 3:\n",
    "            return 'Jueves'\n",
    "        case 4:\n",
    "            return 'Viernes'\n",
    "        case 5:\n",
    "            return 'Sabado'\n",
    "\n",
    "\n",
    "datos['FECHA_DIA'] = datos['FECHA_DIA'].map(diafecha)\n",
    "```"
   ]
  },
  {
   "cell_type": "code",
   "execution_count": null,
   "id": "e230fc81",
   "metadata": {},
   "outputs": [],
   "source": []
  }
 ],
 "metadata": {
  "kernelspec": {
   "display_name": "Python 3 (ipykernel)",
   "language": "python",
   "name": "python3"
  },
  "language_info": {
   "codemirror_mode": {
    "name": "ipython",
    "version": 3
   },
   "file_extension": ".py",
   "mimetype": "text/x-python",
   "name": "python",
   "nbconvert_exporter": "python",
   "pygments_lexer": "ipython3",
   "version": "3.11.8"
  }
 },
 "nbformat": 4,
 "nbformat_minor": 5
}
